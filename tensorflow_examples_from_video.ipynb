{
  "nbformat": 4,
  "nbformat_minor": 0,
  "metadata": {
    "kernelspec": {
      "display_name": "Python 3",
      "language": "python",
      "name": "python3"
    },
    "language_info": {
      "codemirror_mode": {
        "name": "ipython",
        "version": 3
      },
      "file_extension": ".py",
      "mimetype": "text/x-python",
      "name": "python",
      "nbconvert_exporter": "python",
      "pygments_lexer": "ipython3",
      "version": "3.6.5"
    },
    "colab": {
      "name": "tensorflow_examples_from_video.ipynb",
      "provenance": [],
      "include_colab_link": true
    }
  },
  "cells": [
    {
      "cell_type": "markdown",
      "metadata": {
        "id": "view-in-github",
        "colab_type": "text"
      },
      "source": [
        "<a href=\"https://colab.research.google.com/github/wmokrogulski/intro-to-dl/blob/main/tensorflow_examples_from_video.ipynb\" target=\"_parent\"><img src=\"https://colab.research.google.com/assets/colab-badge.svg\" alt=\"Open In Colab\"/></a>"
      ]
    },
    {
      "cell_type": "code",
      "metadata": {
        "id": "AmAMeCLZhJiw"
      },
      "source": [
        "# set tf 1.x for colab\n",
        "%tensorflow_version 1.x"
      ],
      "execution_count": null,
      "outputs": []
    },
    {
      "cell_type": "markdown",
      "metadata": {
        "id": "1Jw4om24hJjK"
      },
      "source": [
        "# Video \"What is TensorFlow\""
      ]
    },
    {
      "cell_type": "code",
      "metadata": {
        "id": "vS-zlDTyhJjN"
      },
      "source": [
        "%config IPCompleter.greedy=True"
      ],
      "execution_count": null,
      "outputs": []
    },
    {
      "cell_type": "code",
      "metadata": {
        "id": "OjeefCP6hJjO",
        "outputId": "e4eb8ddb-0b5d-4beb-9cfc-c41bddfb797d"
      },
      "source": [
        "import tensorflow as tf\n",
        "import numpy as np\n",
        "print(tf.__version__)"
      ],
      "execution_count": null,
      "outputs": [
        {
          "output_type": "stream",
          "text": [
            "1.3.0\n"
          ],
          "name": "stdout"
        }
      ]
    },
    {
      "cell_type": "code",
      "metadata": {
        "id": "DRvdqcaLhJjS"
      },
      "source": [
        "tf.reset_default_graph()\n",
        "a = tf.placeholder(np.float32, (2, 2))\n",
        "b = tf.Variable(tf.ones((2, 2)))\n",
        "c = a @ b"
      ],
      "execution_count": null,
      "outputs": []
    },
    {
      "cell_type": "code",
      "metadata": {
        "id": "I6wS-LAOhJjU",
        "outputId": "ad8de12f-4cca-44b3-ca33-c3131d5ff7c5"
      },
      "source": [
        "print(c)"
      ],
      "execution_count": null,
      "outputs": [
        {
          "output_type": "stream",
          "text": [
            "Tensor(\"matmul:0\", shape=(2, 2), dtype=float32)\n"
          ],
          "name": "stdout"
        }
      ]
    },
    {
      "cell_type": "code",
      "metadata": {
        "id": "oK-hQ0q-hJjV"
      },
      "source": [
        "s = tf.InteractiveSession()"
      ],
      "execution_count": null,
      "outputs": []
    },
    {
      "cell_type": "code",
      "metadata": {
        "id": "ITcXs5wXhJjW",
        "outputId": "f9ffee30-ea29-4ce8-8ac2-ec65c583d2c2"
      },
      "source": [
        "s.run(tf.global_variables_initializer())\n",
        "s.run(c, feed_dict={a: np.ones((2, 2))})"
      ],
      "execution_count": null,
      "outputs": [
        {
          "output_type": "execute_result",
          "data": {
            "text/plain": [
              "array([[ 2.,  2.],\n",
              "       [ 2.,  2.]], dtype=float32)"
            ]
          },
          "metadata": {
            "tags": []
          },
          "execution_count": 6
        }
      ]
    },
    {
      "cell_type": "code",
      "metadata": {
        "id": "vsFZDFd_hJjY"
      },
      "source": [
        "s.close()"
      ],
      "execution_count": null,
      "outputs": []
    },
    {
      "cell_type": "markdown",
      "metadata": {
        "id": "7gfcxunjhJjZ"
      },
      "source": [
        "# Video \"Our first model in TensorFlow\""
      ]
    },
    {
      "cell_type": "markdown",
      "metadata": {
        "id": "iMyLWypPhJja"
      },
      "source": [
        "### Simple optimization (with simple prints)"
      ]
    },
    {
      "cell_type": "code",
      "metadata": {
        "id": "ZWtF2CJIhJjb"
      },
      "source": [
        "tf.reset_default_graph()\n",
        "x = tf.get_variable(\"x\", shape=(), dtype=tf.float32, trainable=True)\n",
        "f = x ** 2"
      ],
      "execution_count": null,
      "outputs": []
    },
    {
      "cell_type": "code",
      "metadata": {
        "id": "yYZKnihshJjc"
      },
      "source": [
        "optimizer = tf.train.GradientDescentOptimizer(0.1)\n",
        "step = optimizer.minimize(f, var_list=[x])"
      ],
      "execution_count": null,
      "outputs": []
    },
    {
      "cell_type": "code",
      "metadata": {
        "id": "lFIkIWK0hJjd",
        "outputId": "225b79a8-fefc-49b2-f009-cfdfbcc51e2c"
      },
      "source": [
        "tf.trainable_variables()"
      ],
      "execution_count": null,
      "outputs": [
        {
          "output_type": "execute_result",
          "data": {
            "text/plain": [
              "[<tf.Variable 'x:0' shape=() dtype=float32_ref>]"
            ]
          },
          "metadata": {
            "tags": []
          },
          "execution_count": 10
        }
      ]
    },
    {
      "cell_type": "code",
      "metadata": {
        "id": "wzytUwTVhJje",
        "outputId": "95949d96-a236-4c15-d9af-85babe62dc21"
      },
      "source": [
        "with tf.Session() as s:  # in this way session will be closed automatically\n",
        "    s.run(tf.global_variables_initializer())\n",
        "    for i in range(10):\n",
        "        _, curr_x, curr_f = s.run([step, x, f])\n",
        "        print(curr_x, curr_f)"
      ],
      "execution_count": null,
      "outputs": [
        {
          "output_type": "stream",
          "text": [
            "-0.865988 1.17177\n",
            "-0.69279 0.749935\n",
            "-0.554232 0.479959\n",
            "-0.443386 0.307174\n",
            "-0.354709 0.196591\n",
            "-0.283767 0.125818\n",
            "-0.227014 0.0805237\n",
            "-0.181611 0.0515352\n",
            "-0.145289 0.0329825\n",
            "-0.116231 0.0211088\n"
          ],
          "name": "stdout"
        }
      ]
    },
    {
      "cell_type": "markdown",
      "metadata": {
        "id": "YcLncak0hJjf"
      },
      "source": [
        "### Simple optimization (with tf.Print)"
      ]
    },
    {
      "cell_type": "code",
      "metadata": {
        "id": "735vr-PphJjg"
      },
      "source": [
        "tf.reset_default_graph()\n",
        "x = tf.get_variable(\"x\", shape=(), dtype=tf.float32)\n",
        "f = x ** 2\n",
        "f = tf.Print(f, [x, f], \"x, f:\")"
      ],
      "execution_count": null,
      "outputs": []
    },
    {
      "cell_type": "code",
      "metadata": {
        "id": "CizQWkZNhJjh"
      },
      "source": [
        "optimizer = tf.train.GradientDescentOptimizer(0.1)\n",
        "step = optimizer.minimize(f)"
      ],
      "execution_count": null,
      "outputs": []
    },
    {
      "cell_type": "code",
      "metadata": {
        "id": "dlQjRdJUhJji"
      },
      "source": [
        "with tf.Session() as s:\n",
        "    s.run(tf.global_variables_initializer())\n",
        "    for i in range(10):\n",
        "        s.run([step, f])"
      ],
      "execution_count": null,
      "outputs": []
    },
    {
      "cell_type": "code",
      "metadata": {
        "id": "DK8zBENrhJjj"
      },
      "source": [
        "# Prints to jupyter server stdout (not available in Coursera Notebooks):\n",
        "# 2018-07-21 18:01:27.308270: I tensorflow/core/kernels/logging_ops.cc:79] x, f:[-1.0670249][1.1385423]\n",
        "# 2018-07-21 18:01:27.308809: I tensorflow/core/kernels/logging_ops.cc:79] x, f:[-0.85361993][0.72866696]\n",
        "# 2018-07-21 18:01:27.309116: I tensorflow/core/kernels/logging_ops.cc:79] x, f:[-0.68289596][0.46634689]\n",
        "# 2018-07-21 18:01:27.309388: I tensorflow/core/kernels/logging_ops.cc:79] x, f:[-0.54631674][0.29846197]\n",
        "# 2018-07-21 18:01:27.309678: I tensorflow/core/kernels/logging_ops.cc:79] x, f:[-0.43705338][0.19101566]\n",
        "# 2018-07-21 18:01:27.309889: I tensorflow/core/kernels/logging_ops.cc:79] x, f:[-0.34964269][0.12225001]\n",
        "# 2018-07-21 18:01:27.310213: I tensorflow/core/kernels/logging_ops.cc:79] x, f:[-0.27971417][0.078240015]\n",
        "# 2018-07-21 18:01:27.310475: I tensorflow/core/kernels/logging_ops.cc:79] x, f:[-0.22377133][0.050073609]\n",
        "# 2018-07-21 18:01:27.310751: I tensorflow/core/kernels/logging_ops.cc:79] x, f:[-0.17901707][0.032047112]\n",
        "# 2018-07-21 18:01:27.310963: I tensorflow/core/kernels/logging_ops.cc:79] x, f:[-0.14321366][0.020510152]"
      ],
      "execution_count": null,
      "outputs": []
    },
    {
      "cell_type": "markdown",
      "metadata": {
        "id": "sgpxPWUehJjl"
      },
      "source": [
        "### Simple optimization (with TensorBoard logging)"
      ]
    },
    {
      "cell_type": "code",
      "metadata": {
        "id": "3r_iAJX1hJjl"
      },
      "source": [
        "tf.reset_default_graph()\n",
        "x = tf.get_variable(\"x\", shape=(), dtype=tf.float32)\n",
        "f = x ** 2"
      ],
      "execution_count": null,
      "outputs": []
    },
    {
      "cell_type": "code",
      "metadata": {
        "id": "jLeJYW_chJjm"
      },
      "source": [
        "optimizer = tf.train.GradientDescentOptimizer(0.1)\n",
        "step = optimizer.minimize(f)"
      ],
      "execution_count": null,
      "outputs": []
    },
    {
      "cell_type": "code",
      "metadata": {
        "id": "WfX0h9aAhJjm"
      },
      "source": [
        "tf.summary.scalar('curr_x', x)\n",
        "tf.summary.scalar('curr_f', f)\n",
        "summaries = tf.summary.merge_all()"
      ],
      "execution_count": null,
      "outputs": []
    },
    {
      "cell_type": "code",
      "metadata": {
        "id": "3oNsEHCIhJjn"
      },
      "source": [
        "s = tf.InteractiveSession()\n",
        "summary_writer = tf.summary.FileWriter(\"logs/1\", s.graph)\n",
        "s.run(tf.global_variables_initializer())\n",
        "for i in range(10):\n",
        "    _, curr_summaries = s.run([step, summaries])\n",
        "    summary_writer.add_summary(curr_summaries, i)\n",
        "    summary_writer.flush()"
      ],
      "execution_count": null,
      "outputs": []
    },
    {
      "cell_type": "markdown",
      "metadata": {
        "id": "oaLU2HwPhJjn"
      },
      "source": [
        "Run  `tensorboard --logdir=./logs` in bash"
      ]
    },
    {
      "cell_type": "markdown",
      "metadata": {
        "id": "hyODLJS7hJjo"
      },
      "source": [
        "This is what you can see in your browser **(not available in Coursera Notebooks)**\n",
        "<img src=\"https://github.com/hse-aml/intro-to-dl/blob/master/week2/v2/images/TensorBoard.jpg?raw=1\" style=\"width:70%\">"
      ]
    },
    {
      "cell_type": "markdown",
      "metadata": {
        "id": "hkFRBVY3hJjp"
      },
      "source": [
        "**If you're running on Google Colab you can still run TensorBoard!**"
      ]
    },
    {
      "cell_type": "code",
      "metadata": {
        "id": "O0F3UBj4hJjp"
      },
      "source": [
        "# !!! RUN THIS CELL ONLY ON GOOGLE COLAB !!!\n",
        "! wget https://raw.githubusercontent.com/hse-aml/intro-to-dl/master/setup_google_colab.py -O setup_google_colab.py\n",
        "import setup_google_colab\n",
        "\n",
        "# run tensorboard in background\n",
        "import os\n",
        "os.system(\"tensorboard --logdir=./logs --host 0.0.0.0 --port 6006 &\")\n",
        "\n",
        "# expose port and show the link\n",
        "setup_google_colab.expose_port_on_colab(6006)"
      ],
      "execution_count": null,
      "outputs": []
    },
    {
      "cell_type": "code",
      "metadata": {
        "id": "lXKtbGQShJjq"
      },
      "source": [
        "s.close()"
      ],
      "execution_count": null,
      "outputs": []
    },
    {
      "cell_type": "markdown",
      "metadata": {
        "id": "xe-1w_UKhJjq"
      },
      "source": [
        "### Training a linear model"
      ]
    },
    {
      "cell_type": "code",
      "metadata": {
        "id": "7TEyuYmLhJjr",
        "outputId": "9e042fe2-b356-49a5-9bd2-aa741e7d62c7"
      },
      "source": [
        "# generate model data\n",
        "N = 1000\n",
        "D = 3\n",
        "x = np.random.random((N, D))\n",
        "w = np.random.random((D, 1))\n",
        "y = x @ w + np.random.randn(N, 1) * 0.20\n",
        "\n",
        "print(x.shape, y.shape)\n",
        "print(w.T)"
      ],
      "execution_count": null,
      "outputs": [
        {
          "output_type": "stream",
          "text": [
            "(1000, 3) (1000, 1)\n",
            "[[ 0.09498027  0.48793618  0.39011257]]\n"
          ],
          "name": "stdout"
        }
      ]
    },
    {
      "cell_type": "code",
      "metadata": {
        "id": "Cta_d7pQhJjs",
        "outputId": "ed786751-2089-4be4-9009-412e7b3c08ac"
      },
      "source": [
        "tf.reset_default_graph()\n",
        "\n",
        "features = tf.placeholder(tf.float32, shape=(None, D))\n",
        "target = tf.placeholder(tf.float32, shape=(None, 1))\n",
        "\n",
        "weights = tf.get_variable(\"weights\", shape=(D, 1), dtype=tf.float32)\n",
        "predictions = features @ weights\n",
        "\n",
        "loss = tf.reduce_mean((target - predictions) ** 2)\n",
        "\n",
        "print(target.shape, predictions.shape, loss.shape)"
      ],
      "execution_count": null,
      "outputs": [
        {
          "output_type": "stream",
          "text": [
            "(?, 1) (?, 1) ()\n"
          ],
          "name": "stdout"
        }
      ]
    },
    {
      "cell_type": "code",
      "metadata": {
        "id": "BpzTyHH4hJjt"
      },
      "source": [
        "optimizer = tf.train.GradientDescentOptimizer(0.1)\n",
        "step = optimizer.minimize(loss)"
      ],
      "execution_count": null,
      "outputs": []
    },
    {
      "cell_type": "code",
      "metadata": {
        "scrolled": true,
        "id": "MV22vOi7hJjt",
        "outputId": "808dca69-ff3f-41c9-ae51-bc1d387414c3"
      },
      "source": [
        "with tf.Session() as s:\n",
        "    s.run(tf.global_variables_initializer())\n",
        "    for i in range(300):\n",
        "        _, curr_loss, curr_weights = s.run([step, loss, weights], \n",
        "                                           feed_dict={features: x, target: y})\n",
        "        if i % 50 == 0:\n",
        "            print(curr_loss)"
      ],
      "execution_count": null,
      "outputs": [
        {
          "output_type": "stream",
          "text": [
            "0.532865\n",
            "0.0458802\n",
            "0.0410158\n",
            "0.040087\n",
            "0.0399092\n",
            "0.0398751\n"
          ],
          "name": "stdout"
        }
      ]
    },
    {
      "cell_type": "code",
      "metadata": {
        "id": "wYjF3QWGhJju",
        "outputId": "8f87965f-4ccd-4431-8605-c1fd262e391f"
      },
      "source": [
        "# found weights\n",
        "curr_weights.T"
      ],
      "execution_count": null,
      "outputs": [
        {
          "output_type": "execute_result",
          "data": {
            "text/plain": [
              "array([[ 0.11388827,  0.4882018 ,  0.36716884]], dtype=float32)"
            ]
          },
          "metadata": {
            "tags": []
          },
          "execution_count": 25
        }
      ]
    },
    {
      "cell_type": "code",
      "metadata": {
        "id": "beHuSJ5yhJjv",
        "outputId": "0a423bd1-a6eb-4cc7-c1e0-20e86c71da25"
      },
      "source": [
        "# true weights\n",
        "w.T"
      ],
      "execution_count": null,
      "outputs": [
        {
          "output_type": "execute_result",
          "data": {
            "text/plain": [
              "array([[ 0.09498027,  0.48793618,  0.39011257]])"
            ]
          },
          "metadata": {
            "tags": []
          },
          "execution_count": 26
        }
      ]
    }
  ]
}