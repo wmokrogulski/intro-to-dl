{
  "nbformat": 4,
  "nbformat_minor": 0,
  "metadata": {
    "kernelspec": {
      "display_name": "Python 3",
      "language": "python",
      "name": "python3"
    },
    "language_info": {
      "codemirror_mode": {
        "name": "ipython",
        "version": 3
      },
      "file_extension": ".py",
      "mimetype": "text/x-python",
      "name": "python",
      "nbconvert_exporter": "python",
      "pygments_lexer": "ipython3",
      "version": "3.6.5"
    },
    "colab": {
      "name": "intro_to_tensorflow.ipynb",
      "provenance": [],
      "include_colab_link": true
    },
    "accelerator": "GPU"
  },
  "cells": [
    {
      "cell_type": "markdown",
      "metadata": {
        "id": "view-in-github",
        "colab_type": "text"
      },
      "source": [
        "<a href=\"https://colab.research.google.com/github/wmokrogulski/intro-to-dl/blob/main/intro_to_tensorflow.ipynb\" target=\"_parent\"><img src=\"https://colab.research.google.com/assets/colab-badge.svg\" alt=\"Open In Colab\"/></a>"
      ]
    },
    {
      "cell_type": "code",
      "metadata": {
        "id": "Mbm-Fw7HkHKN",
        "colab": {
          "base_uri": "https://localhost:8080/"
        },
        "outputId": "ae087e81-d0aa-4c71-e5e4-9a25fbce7900"
      },
      "source": [
        "# set tf 1.x for colab\n",
        "%tensorflow_version 1.x"
      ],
      "execution_count": 1,
      "outputs": [
        {
          "output_type": "stream",
          "text": [
            "TensorFlow 1.x selected.\n"
          ],
          "name": "stdout"
        }
      ]
    },
    {
      "cell_type": "code",
      "metadata": {
        "id": "tpe385TilXup",
        "outputId": "65d35856-4917-40fa-db13-7205d08be1c1",
        "colab": {
          "base_uri": "https://localhost:8080/"
        }
      },
      "source": [
        "! shred -u setup_google_colab.py\n",
        "! wget https://raw.githubusercontent.com/hse-aml/intro-to-dl/master/setup_google_colab.py -O setup_google_colab.py\n",
        "import setup_google_colab\n",
        "# please, uncomment the week you're working on\n",
        "# setup_google_colab.setup_week1()\n",
        "setup_google_colab.setup_week2()\n",
        "# setup_google_colab.setup_week2_honor()\n",
        "# setup_google_colab.setup_week3()\n",
        "# setup_google_colab.setup_week4()\n",
        "# setup_google_colab.setup_week5()\n",
        "# setup_google_colab.setup_week6()"
      ],
      "execution_count": 2,
      "outputs": [
        {
          "output_type": "stream",
          "text": [
            "--2021-04-27 09:10:55--  https://raw.githubusercontent.com/hse-aml/intro-to-dl/master/setup_google_colab.py\n",
            "Resolving raw.githubusercontent.com (raw.githubusercontent.com)... 185.199.108.133, 185.199.109.133, 185.199.110.133, ...\n",
            "Connecting to raw.githubusercontent.com (raw.githubusercontent.com)|185.199.108.133|:443... connected.\n",
            "HTTP request sent, awaiting response... 200 OK\n",
            "Length: 3636 (3.6K) [text/plain]\n",
            "Saving to: ‘setup_google_colab.py’\n",
            "\n",
            "setup_google_colab. 100%[===================>]   3.55K  --.-KB/s    in 0s      \n",
            "\n",
            "2021-04-27 09:10:55 (37.2 MB/s) - ‘setup_google_colab.py’ saved [3636/3636]\n",
            "\n",
            "**************************************************\n",
            "inception_v3_weights_tf_dim_ordering_tf_kernels_notop.h5\n",
            "**************************************************\n",
            "cifar-10-batches-py.tar.gz\n",
            "**************************************************\n",
            "mnist.npz\n"
          ],
          "name": "stdout"
        }
      ]
    },
    {
      "cell_type": "markdown",
      "metadata": {
        "id": "0QIev-3ikHKU"
      },
      "source": [
        "# Intro to TensorFlow\n",
        "\n",
        "This notebook covers the basics of TF and shows you an animation with gradient descent trajectory.\n",
        "<img src=\"https://github.com/hse-aml/intro-to-dl/blob/master/week2/v2/images/gradient_descent.png?raw=1\" style=\"width:50%\">"
      ]
    },
    {
      "cell_type": "markdown",
      "metadata": {
        "id": "Asg2ew2FkHKU"
      },
      "source": [
        "# TensorBoard"
      ]
    },
    {
      "cell_type": "markdown",
      "metadata": {
        "id": "u6sqy4G2kHKV"
      },
      "source": [
        "**Plase note that if you are running on the Coursera platform, you won't be able to access the tensorboard instance due to the network setup there.**\n",
        "\n",
        "Run `tensorboard --logdir=./tensorboard_logs --port=7007` in bash.\n",
        "\n",
        "If you run the notebook locally, you should be able to access TensorBoard on http://127.0.0.1:7007/"
      ]
    },
    {
      "cell_type": "code",
      "metadata": {
        "colab": {
          "base_uri": "https://localhost:8080/"
        },
        "id": "uDXtTV56kxhq",
        "outputId": "838bad33-180b-489f-d800-89cff8041c6c"
      },
      "source": [
        "# !!! RUN THIS CELL ONLY ON GOOGLE COLAB !!!\n",
        "! wget https://raw.githubusercontent.com/hse-aml/intro-to-dl/master/setup_google_colab.py -O setup_google_colab.py\n",
        "import setup_google_colab\n",
        "\n",
        "# run tensorboard in background\n",
        "import os\n",
        "os.system(\"tensorboard --logdir=./tensorboard_logs --host 0.0.0.0 --port 7007 &\")\n",
        "\n",
        "# expose port and show the link\n",
        "setup_google_colab.expose_port_on_colab(7007)"
      ],
      "execution_count": 18,
      "outputs": [
        {
          "output_type": "stream",
          "text": [
            "--2021-04-27 09:26:12--  https://raw.githubusercontent.com/hse-aml/intro-to-dl/master/setup_google_colab.py\n",
            "Resolving raw.githubusercontent.com (raw.githubusercontent.com)... 185.199.111.133, 185.199.110.133, 185.199.109.133, ...\n",
            "Connecting to raw.githubusercontent.com (raw.githubusercontent.com)|185.199.111.133|:443... connected.\n",
            "HTTP request sent, awaiting response... 200 OK\n",
            "Length: 3636 (3.6K) [text/plain]\n",
            "Saving to: ‘setup_google_colab.py’\n",
            "\n",
            "\rsetup_google_colab.   0%[                    ]       0  --.-KB/s               \rsetup_google_colab. 100%[===================>]   3.55K  --.-KB/s    in 0s      \n",
            "\n",
            "2021-04-27 09:26:12 (29.3 MB/s) - ‘setup_google_colab.py’ saved [3636/3636]\n",
            "\n",
            "Port 7007 is closed, retrying...\n",
            "Open http://7987ef4fcb23.ngrok.io to access your 7007 port\n"
          ],
          "name": "stdout"
        }
      ]
    },
    {
      "cell_type": "code",
      "metadata": {
        "id": "jDMrCYD2kHKV",
        "colab": {
          "base_uri": "https://localhost:8080/"
        },
        "outputId": "6620dc50-c349-42ee-ce7c-62d4c14c5b95"
      },
      "source": [
        "import tensorflow as tf\n",
        "import sys\n",
        "sys.path.append(\"../..\")\n",
        "from keras_utils import reset_tf_session\n",
        "s = reset_tf_session()\n",
        "print(\"We're using TF\", tf.__version__)"
      ],
      "execution_count": 4,
      "outputs": [
        {
          "output_type": "stream",
          "text": [
            "Using TensorFlow backend.\n"
          ],
          "name": "stderr"
        },
        {
          "output_type": "stream",
          "text": [
            "WARNING:tensorflow:From /content/keras_utils.py:68: The name tf.get_default_session is deprecated. Please use tf.compat.v1.get_default_session instead.\n",
            "\n",
            "WARNING:tensorflow:From /usr/local/lib/python3.7/dist-packages/keras/backend/tensorflow_backend.py:79: The name tf.reset_default_graph is deprecated. Please use tf.compat.v1.reset_default_graph instead.\n",
            "\n",
            "WARNING:tensorflow:From /usr/local/lib/python3.7/dist-packages/keras/backend/tensorflow_backend.py:82: The name tf.placeholder is deprecated. Please use tf.compat.v1.placeholder instead.\n",
            "\n",
            "WARNING:tensorflow:From /usr/local/lib/python3.7/dist-packages/keras/backend/tensorflow_backend.py:84: The name tf.get_default_graph is deprecated. Please use tf.compat.v1.get_default_graph instead.\n",
            "\n",
            "WARNING:tensorflow:From /content/keras_utils.py:75: The name tf.ConfigProto is deprecated. Please use tf.compat.v1.ConfigProto instead.\n",
            "\n",
            "WARNING:tensorflow:From /content/keras_utils.py:77: The name tf.InteractiveSession is deprecated. Please use tf.compat.v1.InteractiveSession instead.\n",
            "\n",
            "We're using TF 1.15.2\n"
          ],
          "name": "stdout"
        }
      ]
    },
    {
      "cell_type": "markdown",
      "metadata": {
        "id": "9ORg_-ATkHKV"
      },
      "source": [
        "# Warming up\n",
        "For starters, let's implement a python function that computes the sum of squares of numbers from 0 to N-1."
      ]
    },
    {
      "cell_type": "code",
      "metadata": {
        "id": "CstsHneOkHKV"
      },
      "source": [
        "import numpy as np\n",
        "\n",
        "def sum_python(N):\n",
        "    return np.sum(np.arange(N)**2)"
      ],
      "execution_count": 5,
      "outputs": []
    },
    {
      "cell_type": "code",
      "metadata": {
        "id": "DD1WMCDnkHKW",
        "outputId": "518c0218-f5be-473a-eaa4-976d0fd5382d",
        "colab": {
          "base_uri": "https://localhost:8080/"
        }
      },
      "source": [
        "%%time\n",
        "sum_python(10**5)"
      ],
      "execution_count": 6,
      "outputs": [
        {
          "output_type": "stream",
          "text": [
            "CPU times: user 1.62 ms, sys: 1.25 ms, total: 2.86 ms\n",
            "Wall time: 6.49 ms\n"
          ],
          "name": "stdout"
        },
        {
          "output_type": "execute_result",
          "data": {
            "text/plain": [
              "333328333350000"
            ]
          },
          "metadata": {
            "tags": []
          },
          "execution_count": 6
        }
      ]
    },
    {
      "cell_type": "markdown",
      "metadata": {
        "id": "QCcasVWXkHKW"
      },
      "source": [
        "# Tensoflow teaser\n",
        "\n",
        "Doing the very same thing"
      ]
    },
    {
      "cell_type": "code",
      "metadata": {
        "id": "cY1kvs7HkHKW"
      },
      "source": [
        "# An integer parameter\n",
        "N = tf.placeholder('int64', name=\"input_to_your_function\")\n",
        "\n",
        "# A recipe on how to produce the same result\n",
        "result = tf.reduce_sum(tf.range(N)**2)"
      ],
      "execution_count": 20,
      "outputs": []
    },
    {
      "cell_type": "code",
      "metadata": {
        "id": "DoQxffVQkHKW",
        "outputId": "815a455a-d2ce-4312-a52a-14a8b7719d35",
        "colab": {
          "base_uri": "https://localhost:8080/"
        }
      },
      "source": [
        "# just a graph definition\n",
        "result"
      ],
      "execution_count": 21,
      "outputs": [
        {
          "output_type": "execute_result",
          "data": {
            "text/plain": [
              "<tf.Tensor 'Sum_1:0' shape=() dtype=int64>"
            ]
          },
          "metadata": {
            "tags": []
          },
          "execution_count": 21
        }
      ]
    },
    {
      "cell_type": "code",
      "metadata": {
        "id": "F3A3jq8ckHKX",
        "outputId": "219db796-1b03-475a-e48e-c4bebac55214",
        "colab": {
          "base_uri": "https://localhost:8080/"
        }
      },
      "source": [
        "%%time\n",
        "# actually executing\n",
        "result.eval({N: 10**5})"
      ],
      "execution_count": 22,
      "outputs": [
        {
          "output_type": "stream",
          "text": [
            "CPU times: user 7.4 ms, sys: 1.76 ms, total: 9.17 ms\n",
            "Wall time: 10.1 ms\n"
          ],
          "name": "stdout"
        },
        {
          "output_type": "execute_result",
          "data": {
            "text/plain": [
              "333328333350000"
            ]
          },
          "metadata": {
            "tags": []
          },
          "execution_count": 22
        }
      ]
    },
    {
      "cell_type": "code",
      "metadata": {
        "id": "4rJXZdgHkHKX"
      },
      "source": [
        "# logger for tensorboard\n",
        "writer = tf.summary.FileWriter(\"tensorboard_logs\", graph=s.graph)"
      ],
      "execution_count": 23,
      "outputs": []
    },
    {
      "cell_type": "markdown",
      "metadata": {
        "id": "iiNsMb3kkHKY"
      },
      "source": [
        "# How does it work?\n",
        "1. Define placeholders where you'll send inputs\n",
        "2. Make a symbolic graph: a recipe for mathematical transformation of those placeholders\n",
        "3. Compute outputs of your graph with particular values for each placeholder\n",
        "  * `output.eval({placeholder: value})`\n",
        "  * `s.run(output, {placeholder: value})`\n",
        "\n",
        "So far there are two main entities: \"placeholder\" and \"transformation\" (operation output)\n",
        "* Both can be numbers, vectors, matrices, tensors, etc.\n",
        "* Both can be int32/64, floats, booleans (uint8) of various size.\n",
        "\n",
        "* You can define new transformations as an arbitrary operation on placeholders and other transformations\n",
        " * `tf.reduce_sum(tf.arange(N)**2)` are 3 sequential transformations of placeholder `N`\n",
        " * There's a tensorflow symbolic version for every numpy function\n",
        "   * `a+b, a/b, a**b, ...` behave just like in numpy\n",
        "   * `np.mean` -> `tf.reduce_mean`\n",
        "   * `np.arange` -> `tf.range`\n",
        "   * `np.cumsum` -> `tf.cumsum`\n",
        "   * If you can't find the operation you need, see the [docs](https://www.tensorflow.org/versions/r1.3/api_docs/python).\n",
        "   \n",
        "`tf.contrib` has many high-level features, may be worth a look."
      ]
    },
    {
      "cell_type": "code",
      "metadata": {
        "id": "J3Ugbt_MkHKY"
      },
      "source": [
        "with tf.name_scope(\"Placeholders_examples\"):\n",
        "    # Default placeholder that can be arbitrary float32\n",
        "    # scalar, vertor, matrix, etc.\n",
        "    arbitrary_input = tf.placeholder('float32')\n",
        "\n",
        "    # Input vector of arbitrary length\n",
        "    input_vector = tf.placeholder('float32', shape=(None,))\n",
        "\n",
        "    # Input vector that _must_ have 10 elements and integer type\n",
        "    fixed_vector = tf.placeholder('int32', shape=(10,))\n",
        "\n",
        "    # Matrix of arbitrary n_rows and 15 columns\n",
        "    # (e.g. a minibatch of your data table)\n",
        "    input_matrix = tf.placeholder('float32', shape=(None, 15))\n",
        "    \n",
        "    # You can generally use None whenever you don't need a specific shape\n",
        "    input1 = tf.placeholder('float64', shape=(None, 100, None))\n",
        "    input2 = tf.placeholder('int32', shape=(None, None, 3, 224, 224))\n",
        "\n",
        "    # elementwise multiplication\n",
        "    double_the_vector = input_vector*2\n",
        "\n",
        "    # elementwise cosine\n",
        "    elementwise_cosine = tf.cos(input_vector)\n",
        "\n",
        "    # difference between squared vector and vector itself plus one\n",
        "    vector_squares = input_vector**2 - input_vector + 1"
      ],
      "execution_count": 24,
      "outputs": []
    },
    {
      "cell_type": "code",
      "metadata": {
        "id": "V9LppDz7kHKZ"
      },
      "source": [
        "my_vector =  tf.placeholder('float32', shape=(None,), name=\"VECTOR_1\")\n",
        "my_vector2 = tf.placeholder('float32', shape=(None,))\n",
        "my_transformation = my_vector * my_vector2 / (tf.sin(my_vector) + 1)"
      ],
      "execution_count": 25,
      "outputs": []
    },
    {
      "cell_type": "code",
      "metadata": {
        "id": "NSBnz8MckHKZ",
        "outputId": "950e4869-c164-4c7a-e578-1f611e6b43a3",
        "colab": {
          "base_uri": "https://localhost:8080/"
        }
      },
      "source": [
        "print(my_transformation)"
      ],
      "execution_count": 26,
      "outputs": [
        {
          "output_type": "stream",
          "text": [
            "Tensor(\"truediv_1:0\", shape=(?,), dtype=float32)\n"
          ],
          "name": "stdout"
        }
      ]
    },
    {
      "cell_type": "code",
      "metadata": {
        "id": "m6j2Y9WAkHKZ",
        "outputId": "16023c9e-4d37-46ac-fc1a-9f9d30adda42",
        "colab": {
          "base_uri": "https://localhost:8080/"
        }
      },
      "source": [
        "dummy = np.arange(5).astype('float32')\n",
        "print(dummy)\n",
        "my_transformation.eval({my_vector: dummy, my_vector2: dummy[::-1]})"
      ],
      "execution_count": 27,
      "outputs": [
        {
          "output_type": "stream",
          "text": [
            "[0. 1. 2. 3. 4.]\n"
          ],
          "name": "stdout"
        },
        {
          "output_type": "execute_result",
          "data": {
            "text/plain": [
              "array([0.       , 1.6291324, 2.0950115, 2.6289961, 0.       ],\n",
              "      dtype=float32)"
            ]
          },
          "metadata": {
            "tags": []
          },
          "execution_count": 27
        }
      ]
    },
    {
      "cell_type": "code",
      "metadata": {
        "id": "Q3w0ghbpkHKa"
      },
      "source": [
        "writer.add_graph(my_transformation.graph)\n",
        "writer.flush()"
      ],
      "execution_count": 28,
      "outputs": []
    },
    {
      "cell_type": "markdown",
      "metadata": {
        "id": "t0JqOM_AkHKa"
      },
      "source": [
        "TensorBoard allows writing scalars, images, audio, histogram. You can read more on tensorboard usage [here](https://www.tensorflow.org/get_started/graph_viz)."
      ]
    },
    {
      "cell_type": "markdown",
      "metadata": {
        "id": "VyXoIOTRkHKa"
      },
      "source": [
        "# Summary\n",
        "* Tensorflow is based on computation graphs\n",
        "* A graph consists of placeholders and transformations"
      ]
    },
    {
      "cell_type": "markdown",
      "metadata": {
        "id": "vByr1EyjkHKb"
      },
      "source": [
        "# Loss function: Mean Squared Error\n",
        "\n",
        "Loss function must be a part of the graph as well, so that we can do backpropagation."
      ]
    },
    {
      "cell_type": "code",
      "metadata": {
        "id": "eKUxH7clkHKb"
      },
      "source": [
        "with tf.name_scope(\"MSE\"):\n",
        "    y_true = tf.placeholder(\"float32\", shape=(None,), name=\"y_true\")\n",
        "    y_predicted = tf.placeholder(\"float32\", shape=(None,), name=\"y_predicted\")\n",
        "    # Implement MSE(y_true, y_predicted), use tf.reduce_mean(...)\n",
        "    # mse = ### YOUR CODE HERE ###\n",
        "    mse=tf.reduce_mean((y_true-y_predicted)**2)\n",
        "\n",
        "def compute_mse(vector1, vector2):\n",
        "    return mse.eval({y_true: vector1, y_predicted: vector2})"
      ],
      "execution_count": 35,
      "outputs": []
    },
    {
      "cell_type": "code",
      "metadata": {
        "id": "vnz0bO6DkHKb"
      },
      "source": [
        "writer.add_graph(mse.graph)\n",
        "writer.flush()"
      ],
      "execution_count": 30,
      "outputs": []
    },
    {
      "cell_type": "code",
      "metadata": {
        "id": "dnRt-cJ4kHKb"
      },
      "source": [
        "# Rigorous local testing of MSE implementation\n",
        "import sklearn.metrics\n",
        "for n in [1, 5, 10, 10**3]:\n",
        "    elems = [np.arange(n), np.arange(n, 0, -1), np.zeros(n),\n",
        "             np.ones(n), np.random.random(n), np.random.randint(100, size=n)]\n",
        "    for el in elems:\n",
        "        for el_2 in elems:\n",
        "            true_mse = np.array(sklearn.metrics.mean_squared_error(el, el_2))\n",
        "            my_mse = compute_mse(el, el_2)\n",
        "            if not np.allclose(true_mse, my_mse):\n",
        "                print('mse(%s,%s)' % (el, el_2))\n",
        "                print(\"should be: %f, but your function returned %f\" % (true_mse, my_mse))\n",
        "                raise ValueError('Wrong result')"
      ],
      "execution_count": 36,
      "outputs": []
    },
    {
      "cell_type": "markdown",
      "metadata": {
        "id": "OoEtJox9kHKc"
      },
      "source": [
        "# Variables\n",
        "\n",
        "Placeholder and transformation values are not stored in the graph once the execution is finished. This isn't too comfortable if you want your model to have parameters (e.g. network weights) that are always present, but can change their value over time.\n",
        "\n",
        "Tensorflow solves this with `tf.Variable` objects.\n",
        "* You can assign variable a value at any time in your graph\n",
        "* Unlike placeholders, there's no need to explicitly pass values to variables when `s.run(...)`-ing\n",
        "* You can use variables the same way you use transformations \n",
        " "
      ]
    },
    {
      "cell_type": "code",
      "metadata": {
        "id": "xjfaO25bkHKc"
      },
      "source": [
        "# Creating a shared variable\n",
        "shared_vector_1 = tf.Variable(initial_value=np.ones(5),\n",
        "                              name=\"example_variable\")"
      ],
      "execution_count": 37,
      "outputs": []
    },
    {
      "cell_type": "code",
      "metadata": {
        "id": "kFKVSpnGkHKc",
        "outputId": "027e8b8c-c853-4cd1-839b-0def029774b7",
        "colab": {
          "base_uri": "https://localhost:8080/"
        }
      },
      "source": [
        "# Initialize variable(s) with initial values\n",
        "s.run(tf.global_variables_initializer())\n",
        "\n",
        "# Evaluating the shared variable\n",
        "print(\"Initial value\", s.run(shared_vector_1))"
      ],
      "execution_count": 38,
      "outputs": [
        {
          "output_type": "stream",
          "text": [
            "Initial value [1. 1. 1. 1. 1.]\n"
          ],
          "name": "stdout"
        }
      ]
    },
    {
      "cell_type": "code",
      "metadata": {
        "id": "f8671iB-kHKc",
        "outputId": "5fa8b558-8134-4f1f-9039-d050e0dbf560",
        "colab": {
          "base_uri": "https://localhost:8080/"
        }
      },
      "source": [
        "# Setting a new value\n",
        "s.run(shared_vector_1.assign(np.arange(5)))\n",
        "\n",
        "# Getting that new value\n",
        "print(\"New value\", s.run(shared_vector_1))"
      ],
      "execution_count": 39,
      "outputs": [
        {
          "output_type": "stream",
          "text": [
            "New value [0. 1. 2. 3. 4.]\n"
          ],
          "name": "stdout"
        }
      ]
    },
    {
      "cell_type": "markdown",
      "metadata": {
        "id": "r1Smr5NLkHKd"
      },
      "source": [
        "# tf.gradients - why graphs matter\n",
        "* Tensorflow can compute derivatives and gradients automatically using the computation graph\n",
        "* True to its name it can manage matrix derivatives\n",
        "* Gradients are computed as a product of elementary derivatives via the chain rule:\n",
        "\n",
        "$$ {\\partial f(g(x)) \\over \\partial x} = {\\partial f(g(x)) \\over \\partial g(x)}\\cdot {\\partial g(x) \\over \\partial x} $$\n",
        "\n",
        "It can get you the derivative of any graph as long as it knows how to differentiate elementary operations"
      ]
    },
    {
      "cell_type": "code",
      "metadata": {
        "id": "KBD8E9ygkHKd",
        "outputId": "4488259d-f7c5-4eb4-d960-a9a4b949af22",
        "colab": {
          "base_uri": "https://localhost:8080/"
        }
      },
      "source": [
        "my_scalar = tf.placeholder('float32')\n",
        "\n",
        "scalar_squared = my_scalar**2\n",
        "\n",
        "# A derivative of scalar_squared by my_scalar\n",
        "derivative = tf.gradients(scalar_squared, [my_scalar, ])"
      ],
      "execution_count": 40,
      "outputs": [
        {
          "output_type": "stream",
          "text": [
            "WARNING:tensorflow:From /tensorflow-1.15.2/python3.7/tensorflow_core/python/ops/math_grad.py:1375: where (from tensorflow.python.ops.array_ops) is deprecated and will be removed in a future version.\n",
            "Instructions for updating:\n",
            "Use tf.where in 2.0, which has the same broadcast rule as np.where\n"
          ],
          "name": "stdout"
        }
      ]
    },
    {
      "cell_type": "code",
      "metadata": {
        "id": "hwK61P5akHKd",
        "outputId": "31693fbd-414a-48ed-9b52-6ab5a619ca99",
        "colab": {
          "base_uri": "https://localhost:8080/"
        }
      },
      "source": [
        "derivative"
      ],
      "execution_count": 41,
      "outputs": [
        {
          "output_type": "execute_result",
          "data": {
            "text/plain": [
              "[<tf.Tensor 'gradients/pow_2_grad/Reshape:0' shape=<unknown> dtype=float32>]"
            ]
          },
          "metadata": {
            "tags": []
          },
          "execution_count": 41
        }
      ]
    },
    {
      "cell_type": "code",
      "metadata": {
        "id": "wl4iYQJLkHKd",
        "outputId": "a92756fa-81c4-48d5-e1e0-391d888a7906",
        "colab": {
          "base_uri": "https://localhost:8080/",
          "height": 265
        }
      },
      "source": [
        "import matplotlib.pyplot as plt\n",
        "%matplotlib inline\n",
        "\n",
        "x = np.linspace(-3, 3)\n",
        "x_squared, x_squared_der = s.run([scalar_squared, derivative[0]],\n",
        "                                 {my_scalar:x})\n",
        "\n",
        "plt.plot(x, x_squared,label=\"$x^2$\")\n",
        "plt.plot(x, x_squared_der, label=r\"$\\frac{dx^2}{dx}$\")\n",
        "plt.legend();"
      ],
      "execution_count": 42,
      "outputs": [
        {
          "output_type": "display_data",
          "data": {
            "image/png": "[encoded data removed]",
            "text/plain": [
              "<Figure size 432x288 with 1 Axes>"
            ]
          },
          "metadata": {
            "tags": [],
            "needs_background": "light"
          }
        }
      ]
    },
    {
      "cell_type": "markdown",
      "metadata": {
        "id": "zHfizV9wkHKd"
      },
      "source": [
        "# Why that rocks"
      ]
    },
    {
      "cell_type": "code",
      "metadata": {
        "id": "VIWdhdPjkHKd"
      },
      "source": [
        "my_vector = tf.placeholder('float32', [None])\n",
        "# Compute the gradient of the next weird function over my_scalar and my_vector\n",
        "# Warning! Trying to understand the meaning of that function may result in permanent brain damage\n",
        "weird_psychotic_function = tf.reduce_mean(\n",
        "    (my_vector+my_scalar)**(1+tf.nn.moments(my_vector,[0])[1]) + \n",
        "    1./ tf.atan(my_scalar))/(my_scalar**2 + 1) + 0.01*tf.sin(\n",
        "    2*my_scalar**1.5)*(tf.reduce_sum(my_vector)* my_scalar**2\n",
        "                      )*tf.exp((my_scalar-4)**2)/(\n",
        "    1+tf.exp((my_scalar-4)**2))*(1.-(tf.exp(-(my_scalar-4)**2)\n",
        "                                    )/(1+tf.exp(-(my_scalar-4)**2)))**2\n",
        "\n",
        "der_by_scalar = tf.gradients(weird_psychotic_function, my_scalar)\n",
        "der_by_vector = tf.gradients(weird_psychotic_function, my_vector)"
      ],
      "execution_count": 44,
      "outputs": []
    },
    {
      "cell_type": "code",
      "metadata": {
        "id": "MNblnxS8kHKe",
        "outputId": "4a29088b-1d47-4152-f2ae-f0fffb51ace3",
        "colab": {
          "base_uri": "https://localhost:8080/",
          "height": 265
        }
      },
      "source": [
        "# Plotting the derivative\n",
        "scalar_space = np.linspace(1, 7, 100)\n",
        "\n",
        "y = [s.run(weird_psychotic_function, {my_scalar:x, my_vector:[1, 2, 3]})\n",
        "     for x in scalar_space]\n",
        "\n",
        "plt.plot(scalar_space, y, label='function')\n",
        "\n",
        "y_der_by_scalar = [s.run(der_by_scalar,\n",
        "                         {my_scalar:x, my_vector:[1, 2, 3]})\n",
        "                   for x in scalar_space]\n",
        "\n",
        "plt.plot(scalar_space, y_der_by_scalar, label='derivative')\n",
        "plt.grid()\n",
        "plt.legend();"
      ],
      "execution_count": 45,
      "outputs": [
        {
          "output_type": "display_data",
          "data": {
            "image/png": "[encoded data removed]",
            "text/plain": [
              "<Figure size 432x288 with 1 Axes>"
            ]
          },
          "metadata": {
            "tags": [],
            "needs_background": "light"
          }
        }
      ]
    },
    {
      "cell_type": "markdown",
      "metadata": {
        "id": "BUHUXzhtkHKe"
      },
      "source": [
        "# Almost done - optimizers\n",
        "\n",
        "While you can perform gradient descent by hand with automatic gradients from above, tensorflow also has some optimization methods implemented for you. Recall momentum & rmsprop?"
      ]
    },
    {
      "cell_type": "code",
      "metadata": {
        "id": "qKJhgRuGkHKe"
      },
      "source": [
        "y_guess = tf.Variable(np.zeros(2, dtype='float32'))\n",
        "y_true = tf.range(1, 3, dtype='float32')\n",
        "\n",
        "loss = tf.reduce_mean((y_guess - y_true + 0.5*tf.random_normal([2]))**2) \n",
        "\n",
        "step = tf.train.MomentumOptimizer(0.03, 0.5).minimize(loss, var_list=y_guess)"
      ],
      "execution_count": 46,
      "outputs": []
    },
    {
      "cell_type": "markdown",
      "metadata": {
        "id": "F5WrNsFZkHKe"
      },
      "source": [
        "Let's draw a trajectory of a gradient descent in 2D"
      ]
    },
    {
      "cell_type": "code",
      "metadata": {
        "id": "yg0Z5SdJkHKf",
        "outputId": "2861f650-bf69-4a04-da2c-cdc62090260c",
        "colab": {
          "base_uri": "https://localhost:8080/",
          "height": 269
        }
      },
      "source": [
        "from matplotlib import animation, rc\n",
        "import matplotlib_utils\n",
        "from IPython.display import HTML, display_html\n",
        "\n",
        "# nice figure settings\n",
        "fig, ax = plt.subplots()\n",
        "y_true_value = s.run(y_true)\n",
        "level_x = np.arange(0, 2, 0.02)\n",
        "level_y = np.arange(0, 3, 0.02)\n",
        "X, Y = np.meshgrid(level_x, level_y)\n",
        "Z = (X - y_true_value[0])**2 + (Y - y_true_value[1])**2\n",
        "ax.set_xlim(-0.02, 2)\n",
        "ax.set_ylim(-0.02, 3)\n",
        "s.run(tf.global_variables_initializer())\n",
        "ax.scatter(*s.run(y_true), c='red')\n",
        "contour = ax.contour(X, Y, Z, 10)\n",
        "ax.clabel(contour, inline=1, fontsize=10)\n",
        "line, = ax.plot([], [], lw=2)\n",
        "\n",
        "# start animation with empty trajectory\n",
        "def init():\n",
        "    line.set_data([], [])\n",
        "    return (line,)\n",
        "\n",
        "trajectory = [s.run(y_guess)]\n",
        "\n",
        "# one animation step (make one GD step)\n",
        "def animate(i):\n",
        "    s.run(step)\n",
        "    trajectory.append(s.run(y_guess))\n",
        "    line.set_data(*zip(*trajectory))\n",
        "    return (line,)\n",
        "\n",
        "anim = animation.FuncAnimation(fig, animate, init_func=init,\n",
        "                               frames=100, interval=20, blit=True)"
      ],
      "execution_count": 48,
      "outputs": [
        {
          "output_type": "display_data",
          "data": {
            "image/png": "[encoded data removed]",
            "text/plain": [
              "<Figure size 432x288 with 1 Axes>"
            ]
          },
          "metadata": {
            "tags": [],
            "needs_background": "light"
          }
        }
      ]
    },
    {
      "cell_type": "code",
      "metadata": {
        "id": "Jxb1UQArkHKf",
        "outputId": "3eec7d66-f9cd-4c4c-8bf0-da96261ab6e5",
        "colab": {
          "base_uri": "https://localhost:8080/",
          "height": 309
        }
      },
      "source": [
        "try:\n",
        "    display_html(HTML(anim.to_html5_video()))\n",
        "except (RuntimeError, KeyError):\n",
        "    # In case the build-in renderers are unaviable, fall back to\n",
        "    # a custom one, that doesn't require external libraries\n",
        "    anim.save(None, writer=matplotlib_utils.SimpleMovieWriter(0.001))"
      ],
      "execution_count": 49,
      "outputs": [
        {
          "output_type": "display_data",
          "data": {
            "text/html": [
              "<video width=\"432\" height=\"288\" controls autoplay loop>\n",
              "  <source type=\"video/mp4\" src=\"data:video/mp4;base64,AAAAHGZ0eXBNNFYgAAACAGlzb21pc28yYXZjMQAAAAhmcmVlAABNim1kYXQAAAKuBgX//6rcRem9\n",
              "5tlIt5Ys2CDZI+7veDI2NCAtIGNvcmUgMTUyIHIyODU0IGU5YTU5MDMgLSBILjI2NC9NUEVHLTQg\n",
              "QVZDIGNvZGVjIC0gQ29weWxlZnQgMjAwMy0yMDE3IC0gaHR0cDovL3d3dy52aWRlb2xhbi5vcmcv\n",
              "eDI2NC5odG1sIC0gb3B0aW9uczogY2FiYWM9MSByZWY9MyBkZWJsb2NrPTE6MDowIGFuYWx5c2U9\n",
              "MHgzOjB4MTEzIG1lPWhleCBzdWJtZT03IHBzeT0xIHBzeV9yZD0xLjAwOjAuMDAgbWl4ZWRfcmVm\n",
              "PTEgbWVfcmFuZ2U9MTYgY2hyb21hX21lPTEgdHJlbGxpcz0xIDh4OGRjdD0xIGNxbT0wIGRlYWR6\n",
              "b25lPTIxLDExIGZhc3RfcHNraXA9MSBjaHJvbWFfcXBfb2Zmc2V0PS0yIHRocmVhZHM9MyBsb29r\n",
              "YWhlYWRfdGhyZWFkcz0xIHNsaWNlZF90aHJlYWRzPTAgbnI9MCBkZWNpbWF0ZT0xIGludGVybGFj\n",
              "ZWQ9MCBibHVyYXlfY29tcGF0PTAgY29uc3RyYWluZWRfaW50cmE9MCBiZnJhbWVzPTMgYl9weXJh\n",
              "bWlkPTIgYl9hZGFwdD0xIGJfYmlhcz0wIGRpcmVjdD0xIHdlaWdodGI9MSBvcGVuX2dvcD0wIHdl\n",
              "aWdodHA9MiBrZXlpbnQ9MjUwIGtleWludF9taW49MjUgc2NlbmVjdXQ9NDAgaW50cmFfcmVmcmVz\n",
              "aD0wIHJjX2xvb2thaGVhZD00MCByYz1jcmYgbWJ0cmVlPTEgY3JmPTIzLjAgcWNvbXA9MC42MCBx\n",
              "cG1pbj0wIHFwbWF4PTY5IHFwc3RlcD00IGlwX3JhdGlvPTEuNDAgYXE9MToxLjAwAIAAADHoZYiE\n",
              "ACv//vZzfAprRzOVLgV292aj5dCS5fsQYPrQAAADAAGq1jzipe3VQKREMzn+ud2GzbOJ43BPcMYj\n",
              "i93Y+Em0ioSb+61aEWEM7dcbRaivTOm4o+VA8ddAAAAFKlUSisUnKcUIhincww6T5PkKpaK19RDU\n",
              "XBPH/pmpmIqHtCYyZf8TZNeLqtLPBRS0zroJvm/0WhHZqHT4sVJ1A0QYyaRH3tm9j8pH6isGYwLm\n",
              "p80b8MFL5upDVMndNVIe0lPtZtq21Dpj84mws4mZKNEZVvfHjNmlvtN2GMNO5l4ylcOc33zCq1wk\n",
              "LPnp9m84I6D4NP3kYl7Qq59cuOH75TPx64OS7N4Z0DPeUwuOKqaVoPrXKk4mlhXQrU6jhfvC6QjJ\n",
              "cQhID7TroGsiNeMxdj8GZGCcPPTtxLa0QEWdQjVZEBd4+mMYwV/aOk2fsfT57cp18uVynvzjd/Eh\n",
              "E81ZKCMtDSiVmpEUsM143oeaGZxPgU5d+UImDim3Kf9X6RiArcbric5Rhm+DjNnncfDklslLzSH4\n",
              "o5ikhdkEjH491aNhpc96SiUcMErPRih5z+TUfhvZSoCJFl+5eJCYjlJ4Gru7LQf7d3M4lHcjjcZP\n",
              "magiNyPja5G+MwpcF5+QwdE1XnMUcOLtFxgWuJbuPlXjjh/48o6kKsls5by4V8xeDWf6a89zSK0n\n",
              "YT4qUZhw1ppSO/Z0rdcf+Pj5fvJI1Qx3b72qFnH9ANCQ5JgTOxcCgR69zhsBlnSI2YRrVse2RzDa\n",
              "l/6haZgQ/xOer8hyagGeoS0bi0VvDqowymUbMOPCCvxix0OL5k7hcmsAC719jERyfWPDRNoT9O8n\n",
              "aOIlZgEa/OxPHBuhUE42xwOtgcvL9K0bS7ZYaJZQpjahyfmQebROPBosX3BT9HoXzh5PXxi4RSYa\n",
              "eULslQ0xUiFosCTf7PTz+OsQvxfdw07zXLcNeMKcBndgDTwL9g18xAO2HOQAx1masSRDxDKmy5pS\n",
              "sJ+n4bh/JYP0wDXIyHEllcwCbWURd2bX72uBCmxeCesN6gnY7guDnjjIP3uWlOv7m2bw8Ki5Kv8F\n",
              "5RpcuVMZ6SDyLifPQLfZ55p2IDQ8uKG784jOXJtX2TFq8KoCNe0fFHs3NAXy2pAYFAsRVES3r+9E\n",
              "li/FJts1BjJWjKhIuMDQLhYUqHvkNHsGQme4OYRtRpaBZ/65VOKA1xT/nsM1tiVzohcqSOX1xAj6\n",
              "H3IioGANND8iJhOeRo14AtWToMwba3NJx/fEOOmnuDS/+NdbNNp9cEpE/cAFv1kGfFI9Ks8h/JCj\n",
              "ACt8XgilW746gKUuwGu/FP7LDd8MWPRCE4ZLlL2UxUGhiH+pENg5a5cSU2HBWBcG4fdtChPWJ/t1\n",
              "EpJ1uRTtwtl4B97je+rMB17BLtOeoB6dw/w5JPE0Ws5vnyQKea+9zulmlJaH1VkhM1f2GhpMPARH\n",
              "wP5vuYr29tjwh0TVOfbvMVqS6fw/u42xo72aH44SdKG/g1jA4oM0U6GzA2dLe0ZlDpGmuOohUJx6\n",
              "wKKw145oFHNCpo91ppZuqeJc6O1GQmi4vEdCEkwYaUYVHFcCiNCgQXoMFtYbstAzRFCGAC1HZ26W\n",
              "DkgbtyX4s+9cgZ/enqy7kLThWDt3iFeIWXnD9+xtHyv6HA/75ppz90N06CZj7iQVhMZadvf+ld6L\n",
              "G11/m5K7kRuZ+ASZPkCy9HjLllQzUWfc9OVL2drPjcv8GImaWtOiwfpfiXuu1Tiv5tlfEcv2nwQb\n",
              "SAHRj4wA11VXWH5YDAz6yzNwqHBCJKoICaZnyar6YWMCMarIWcvAs8JUjxYgxqLKHspzv+wGkFSF\n",
              "v5XknccajRuo9O3W2KYrAtgEkixAaJfhgMS9ejXTRjUWAi8wlTO+YYwYKUguBcWJmMrBUfkso1RC\n",
              "MOU/vOZLCKv9uGwGICCReGZVXsquxLJUxU8IoQf09p22BKhCavpKoYkqeGsYcgEFkySctImDVN+7\n",
              "grSUCoJ9hElTBKsczs/eTJkTZtyaMOL+hQ9j45IqsmhraEKuu4XKWaxjPGwND1KH9FTZ349iaOEF\n",
              "PANd8Sr1jP+lbCgwklDrQD7ALbimDCLE4oQuYDTdwS3PR3VEoLAppCpIToCNlUD30n0IFG/KVhXE\n",
              "Wqex9dq/NVcWyHUeboYhXKzmmsH5OGHbSlbsQ4kiP0g9emSC16wtp7oGf6WrKiuxnejMhYb8zX//\n",
              "2Vg4f4Gs4c853bupeaM3olVDs7gTaC/SsgADTESUSpNo+0WSVbTHPW4HTp/J8k+evURVoFl3zLXT\n",
              "51JtcyISTYH9QJAZvYUaNlWUWV4l2WS3lXEUFmMtp2lpe2Jr1WOJKyY17yv0cBoYA6s9g+577m+g\n",
              "BbUHlMXRgdnnJny0sd3+wWDJ1X6vtkMQ1m41yyg45LlYNsF317AWo5mt0OPmInU2DPyxJMPF7EWc\n",
              "9RufIR5ds2yLtlVKIVyhbw9mKpxmSaCBv6dH7eulB4l7pFpD8lKATuKjifAAg0YClJv4xy52cC0o\n",
              "A2Q1ccgOdmkfx0m2qGfz1sHgefWy3HF04G1CwXsQEMkOezweiWGDoOjPMPngL/kqpi3BLWOiNUa1\n",
              "nIwFvT+MKFB7ahHF/zNOnek1dVkD+UScIFVyXw1AQ2S2BitOKS268OE6L006ozpcqVE1E738qPzK\n",
              "Sr9l8FkE2qxzG5RiIo2nfyxwIaOBq7kY0MGlr8j1TR4jRVVdY6+00mqSJ5arhgnuF55AVxoY1H+r\n",
              "CNAyuo5LOFoXmAOkaGDIWalxGL1Vz0Cvs1OwXeufRRkc3J/PivlpFKpNb6CnJnYx/4xkAbDvIzVr\n",
              "RH+Dy7LKiLXGkgSsB/8i7Qjj0C3227hhKRbv8qmx6/g59OFBbyAkJg1MgOZrQBv44N8EgTGsPUWH\n",
              "Q2V2eUr9wYwgHPlpxTtldfoyub0w/MEjfLg3Cw83YH2Rrs4zuS0TFxbF9u+Fz1FhqegSjo4OsGYN\n",
              "UMbYmnLWP72NDYhKPfETV9dpmQKJDo0WSFY+q/DUoDiVUfxKiARegrBEwzDFilzxIrwaB3cjRIui\n",
              "vbuanE5q4NnRpbPuDjI6V0AG2Md880Eh/O7VemuPOVktpICBI8kSZJkYcHqnbg/iLICSff+s/dYd\n",
              "Gb/pE2UDYjkl/lzW2ppZ03gotVzCCIlN0Go2lCEZ34yjY1En9LpWobG5L1X8S83RoSokjhrEUikO\n",
              "YqrdVSkVXEkTNjIvS4nVPbfYc58Gxa7BZQ4xx646IAT+Tzevi1bSNRPv6L2r824wcq46ikro7Tk0\n",
              "gnhd37DzLxSIvrj6gFn/2fFmD62cT52CYo0UIa+46HkKc8IW1qgXxnR1qqYprJ7esNSZdPrwZDYI\n",
              "9F3sRbJlz4c+0+Ci8uUG2wtbGmZPeMMCjiZkbz5UHleGhfLHxNd2yhDbhH2k+zGu/wcU9IP2w0hZ\n",
              "dtq9+3oj3s1sBOta4HeRXW45vtjXY+ANbULRWMrFXwMUQH/+0Pr/v+OIjuACAU+h83IcF2UqzIFw\n",
              "ml+snmlu9uQPHHlN9F9+VwTFsFN67qu5P9Yb/aM/g4GVwi+x9OE3Qla24TO79LElHEkAoF55QOnV\n",
              "EAJ44w/UQ4Pq2mNUVMzOtD+JCdUOKHhPYp1NeuBziHFUrsFdPTtdnSMr4CnyrOrNs1wI/l+x5fdV\n",
              "7dp3+6668X6JVFwVAwvwL82vEg6q99qG5Ygc3n8T2lNEUaRQnVht8CldRPw82f2qU3Qng22JKZ8W\n",
              "3ubQXWyuZSSgn9Sz4uWQDzoMwO1spHudQqKHzPBUDiSh9X+XO+flvtOzVmanR+uiSbSBYyJJ4Tli\n",
              "SszT4Yb/V08Mgcs4LSv85Immttofcrz+WSVSPcGXW75AqMRTxb8XRpNo95y15jOHfLVJynFf8UU+\n",
              "NMhenhHy+zRsTK9jTTuEPVDa5rjvs2LBPuDqMoa/RMXUDlm+HXuDSROvhvdLCf6gU1ybA3RtJFeD\n",
              "sutHgMiaihLC1Zl7/8MOT9qELRfGHzpzOHpGLduRYlce9ksprmu1+X7o2N/prjFmQCecFjIqQK5b\n",
              "2cPAOZvGhAMtQ7HEeUvMHkIRZnrGA863aPNKbscgrOU3CZDKOYEXX+dSAY+l24rerwh3UiNFPoqW\n",
              "Q8fZtCJ5jofC29Igg+QHtLD3nap0/3rG5USV9ujGosP+mEtvy9ZtOgsomC+3Jx8BGlEY8H/5zYiJ\n",
              "w5DjL5igKjH6nJYqlRzoAiwRrrMJw8gELZnf1mLbobP+cmSSXmhklIHyXkgFTr+X/jU1arksImvS\n",
              "MRDxb3exCJAa+dUkeuJP//6hB6nSb/ALYVA6AAN3ejN9ZxkmifqCmakaCg3uqFyhM1T0K5bBgddj\n",
              "Ey5vO1HiFwuFcv01RPxx7J0gphw1s8vv7n/kKSuzkj2vk4cW+LT9DgK/9oUAO1IsXzlz+faEczFq\n",
              "qQPaiH3aRzjCo18YbcalUpi7pDI+QeUvSW+7d82Fn55nRvhdA7CwZMpVLfXh3Mt/ptVgE3jY+APK\n",
              "eiTtvswGdM9SlC0ZMIIi0bQ6k+eB2VTygt+SU7giJi+Y4tANqxbvbgnHJkqDuH7WepvF7VsJJekF\n",
              "BhxISN+orxYjpBGs+zS+flOuAy/8omY8K1TAZrFJ2Q4bTYdi8lVcMdmXQJbKiu+corv+ZQR6V5Zf\n",
              "2vcAUVSAgisCqmdMhiKsoP8yn0xGtrlhjznOBSt4VMbjvopvnQS7TLgpY9KZH7YoKILT/07sffJs\n",
              "kAir6Vr1rZl97dhQi1tVmNrsm5WaqiJRDydxfs6a5vmxMFjRMmMiUE8O6MMwrs9yv/bXgKwKOUBS\n",
              "0qbxZlHSimqe11vaW0JzQjfKbsz9ouhRDqTff0GbomHfB4H9+/0i6QcxfFQtDWflli/Ya/omuvkK\n",
              "VhIOaSlgqKaGM992OcoOLFuavrx3CEKxRIcZspwKx8KXBmHc8U1bZAVEKPXQn04RSqUPdnz4BVx5\n",
              "XdJyg1uReAmr37B/Ho/vMrhIC5VESeppdOqqsxieYqluDB3YGdS0xC8dxvMt+c9XdzFAA2Kz8URm\n",
              "o+PHzjUPp3n44NmUZ9MJ4Lzsmu4Vj1WTRokmla/MdZZwTzNOw+RtgwVh+J6RSKrW9lwzbDpRAWAn\n",
              "tgAOkIhpsk4FIOkJG900bufsxW6P5Gqf+njUoCfzl5xfSBj1djqn80eK1gj7HEddT4PI8/vn/kXI\n",
              "M0UKLbiCZ54uhTTo47RZ9pm3035YKnu/QilgsCR3WRqw/uG1LCIAMLf7Y/D4PdolTJ069sPf1e9G\n",
              "F+GQQmCwlWps29xj9tyAQprffHp3PC2eRXHRN45duy+5NQF4TGYKXefmk6zxekw2vYh+/TwGOgDp\n",
              "QsihNHwe+CD6D/WmUj/c6ZccTgE0VjwEBDhiYv+/1c3z5tVzfUEB8TTz+7Bpgn7teRtEbpm3GIwC\n",
              "kwAG73b1mlPcR0e48+HMrZzjrF3KLkdFF3xmlDfJfzr7zajXB58VkSNDteyEEZQOxh85HYcSDc8m\n",
              "lWqoz7iAaJftXPtrLzjYoULH/jW4VRhCX/D4yDrTQC1x9qKfqxZ85elhna/RkpmWPhDHE+KBxRZb\n",
              "8xvnB13gamD+37C0sWGYurrOD669SR6ei5UoR0FyzCYVCmSS70V9Mil1AkAQzeDEcypcJwEM7XIE\n",
              "hvSL5+jDOCWR8FMW6iOmRiAxpArgXrnbnWM/Hm6dzKnfO69cqFTKXLJmLWKCseLFIyPnOp9AvhQM\n",
              "D09jR8zNs4MP/M/Llb4vdgPZNSLWjK2ySA+5oC3sNd3ry9SwRUs6ixhEbEhYNTNAyuLaFXN1+nEu\n",
              "m8GWGLw++MyPLZvmzKnTjHhg39+Oysz9LS8qkd/dVXaxAxqnV0dSseFzvbZyu0WcIwEPmYtvtlUU\n",
              "rR9RpSmAP9kXr09tTgI0XVnahQyDwp2/mUKYQu2/d42kUXUv2h1RFQaeRDt6SnJajEiybPqxDKC6\n",
              "sJZ4YGa+Pg6Ge6GYZtIVGbno9rODAv7FAVWcLX7JFraVMMg7fZcYfunoQWeODIREigdY97GCltW1\n",
              "BR0bjNR3P8eRw07vlLz91aJKzw4/2W8Sgxg1s8WorqqRn5IL0+QRfydrrvR9zpPI7jQ3ccgXM4Q/\n",
              "LCf8OG/EZD/tJ0wUAn1zkUtmYvLEMNXbANzUyC9iNbL9xbJG0yAx+LaGSU2Q8DDSHX+fw67U9Ddk\n",
              "aW6ndgYM1EQ4Xt3y11pbQUxYgIXOnAg0qGheN1fc1H818lzenLrwt5TbrhtyNTEnTeL9VPELZAKr\n",
              "rmYGWUoXip/7jHrvwk9hMoDu/F+Q52I6S/MsSI+FF2Q+qq3rMjOuKPNZnWEWYLmgp5M3rLuY52j8\n",
              "m7V+HIv7knfxexrv42+U4SEJFb9s5wF3KwKdRKl5iVbyxkUtjC929OZeqtBUCjl2hZard9XtjzG1\n",
              "iiq/XEU8DitGvGgGgqizbLj9HRYn9I8YMNRkh6vFMfU08+C6dDI1ALHJ7uYQNYHXirWvWefZcatd\n",
              "AnEe59LReH+zOGqt1CfJwEyBQuFaUn0760wSgM8F0j8qhkBTbTJK8izkSZEZHcLJwf5hoXzwelXe\n",
              "kVvbdQbyFwh14b2rAH8aGub6Z9X6TECBUlKPRS07wQwVHPdgLGZKdW5NLcmm2ki9lsLE/DRHriVy\n",
              "sly6iedChfys7eQfXRhhR4v354XUmFW34MCHmOxMhEz8PrXrJZ3evYUn1dZ9ObmjlTiGVTyBhr0z\n",
              "EdzauuA47p5/nEE3Vq3sFsfy1ddPH+9IUvjkJ+Vhqwl1Eg2VF4X237z2okmRtJw6smmFabWvnm3X\n",
              "8f4szh/5u5KnoVMP8ZhQLc+4bVnaQ4iftXYOJl1ll1juF5kmwxdgW3zZWvqCuwPNcc2Qpu6i/7VN\n",
              "ndWZXdhZ6K/kQAeQ2oJ+CDXXIlM8izWb99FadUACpP4p2IKNYajWTeGtM9W1euSZcnvc+YheQLVr\n",
              "stIlI+EK3qrSJrW0r8v6hoFAVIt166nMtMM3u1MoCRhcODE9sfIEI6Fwwb9WADnCor/JzXhLgle/\n",
              "FE8zL2YdXaldZ7Wulcnuzn3JRgxicirBZU/uP0aDRcLc5Kg91nvyT1qBD5RYwAajq/HFXGjv6dDd\n",
              "EvUF9YdH4bZY0qWNQKSmsQ9fpaJPj8y2GInZPINj7UELw0BR3yc8Q7TqMyDXO0FsF0gBcY0CyfLq\n",
              "WI3kPFGHR6c+7C6laHAW8golDdaISKtFFPERW8P9K3VstbF6NVpfZzs4UTCAJmTSGJard+AH4jt7\n",
              "DyCHoIZ47GTL1VWIE7nkuOYOonHniztt3cUCYBQz4hzQbckcTzVNNnOnNsxv//N/SctRnW4Pym5C\n",
              "iXWlT3avZtJP/QGYZXRUtRE1ko/RKd6XKAjQ456/WjsrH4VLSNWA0UEWYUCgFgTu10gj80IxrYLW\n",
              "NIndofPY05uPucPSTNL1eqGA2a5KuBLGlu9yJJjOiX6hpn8hjuJlC2jyNvtcmTOMb4Z5Fxr3eNp4\n",
              "Vnf74cujuUofohVns39JCo0c3rEmVIpfj8B6A/aUUKYrT8mzW7qWIAOx0/bTlqo/yif8pcL6wtpT\n",
              "SNHXnhldLQXHNle+nVMoCv/C9w0Bh9TLCygF/P8KToH1TgNSsjxGiz/+cvAVEgxPl4Z834kzsC6+\n",
              "NthDww3rE7W71JqWk7wdHY5lrtgkWudZ1IhqkHnrm6CzOGeYF4soHEqb28+Bal2nsHRYUmjgyYI5\n",
              "/V3npfd58Ckn6o9W4vW4Hmyv5a4dqFENxS5H+U/gRSfkqydu6YlXgPuEE5mN+tdti9ZIS9oJFR/p\n",
              "dj2wwwsSzFmecPavIs2TNG+Hnj/ZsxF+L6/cBuV6zReuBjyWco6Q2B9jl/dr0CMpUaWS+MhqNpOs\n",
              "0O12oM0C7QW0ANmMqmlB9VJaJjuWGnrNOsY0C1Y07s5pjhfHff8ZpgfLfNdBGjuS7xIfboJdFL1P\n",
              "GSgk5eKpyJAvl71/o1Afi6Y97rK1YQ9ZzuCpjJySQzqXHK0GFf+A7S5g3twRiaPCTrjehPs4vde6\n",
              "AomUuFjtCLGTPqBGRZqfBD66jcZauxDazN9KtsM5AO+6YKwzNu1oJOBK3Nolu+iYiin5MZetvJz/\n",
              "EDPjxaUvdYVq/2JXSZLr5iqI6aNqRj+y3YmhGZT1E3s/vd9hsCLFMxELKAIl1ueGXx+ZLhC8pZdZ\n",
              "gRGRvKipN7XAtzt7+fy0lz/qR/8kDVjE75YnGkJTdKOnG8p1BwCtf3zHIXuTNhzwLVV89teVy4tC\n",
              "ISXEI/XBL36oLKVYSVjKHofGVAD/q/m1S5oYDSx1UzsQO7qdAvaMBeli7UMpYvJJU/Ynx3GxXlD/\n",
              "aAiv0vFunzgO0ao3waE278Y5s+KRiCbQgW+wcvDDMzBUWwhLFPewCqnfTNcnj8dwVs3HBYxJXF6x\n",
              "GYKxiDHuZeN0rKJrl5IkbVV65JCRXBF5TMCh2LOWX06wVY+Ssdf4LRmtDSV/f+ttz7a84tse+qHc\n",
              "iHIyaZg4MNuh7LZv7+uma+T1k36lzKfZdIQckU5d7vgrSyhmmIyMd3ohnr4O+sYaOqN+3eXnOzjS\n",
              "GIWNrASEOUh4pNfjTapsM+FcFG9OfMV74qlDwUQmwvU2QNDNIyDF5S66oXO8MVD57LjSz8JxXnmw\n",
              "sv7WFk8jhUQhGVr0nzPvpBk/kWRikTTWNI7Lc3H7m6TehvBDl8ys6EoHlZa2h56LgiCEf88u9EDD\n",
              "CPT/Ug8UOfFETmBOCy2CA3J79YSuB/eZ+tDfDd/BR2DK7gkVVczaSuBHhIlFRUmS5dz9XvMKtZgm\n",
              "GxBBD4uNpInjLsATzdbbYWbOK36hdoLTTi9u7oHSFdh+9E73rr0XPhkNkKrCe27N1TF8fpgkKDQa\n",
              "hU9fGsfGKa0sAUbTf64PtvoqsgJTxnOiC6E9DJ2Dj5jA3Ysq3JY77MtV7b9g0vN8au9GK3lcFi9F\n",
              "mNIZCpQzL4Af9f6+UPZpIYuGhXjIsNWwUSFiE0YDRPVr/jdglEkTSqJMlxrmyFWogb9/UKVQ2Pnl\n",
              "GuOFASRGW465gXjs5RwQN+a5AL1G5SKFq7syghkpXqzqXhtnlC+307oG/QV64DObE/6q6ciYm4y+\n",
              "uU6jqBBgAAqxuHwxO8R2yMeCcqVzXz3qTmNXAdnux+uZ91Bde+SzF9N1KgIjWJ3hk87gWucXUyUo\n",
              "X3grGG/b+siOyIxxi7s3X2BAfyh4bZYDrlGRLVgoYU0qEx7my8TGCm5T+hU+ZYLLEOYbeEtsonEN\n",
              "clfF/GHn5glNqwjVO5guHlIP+bO9Vp2H1Kr7BC9l58KvcbX73g0FGXZLRHpPhNC9Z09mkJ0LFTfA\n",
              "xS3ndhuLGjRZachML5zE8e7r85DwG89yQmXSFuiEgrCwQK6duW4xHhIl1AkAYYc2LrHmcVd7SCFQ\n",
              "tj9jmLx9+wjU8TH2rdHVqZ+1R8VtExyuH6eDDG+H2hQ28+GQ6KT5R36WDKS8TK1qIbVrsakTvRM3\n",
              "smVJtwR7dM559NqxhmnnGbEqKyaf/DiU80BL6LTznECyD+gu434Li/EHx0ScDG7pcU4A/iZyN8Tm\n",
              "rnxbwBxL3Ld81VQeUbbPAJNIIelMFSf6rGZbrt2cy1tbFEDV7Cn6fCKwH85nKn6K7WXa8zaOhnwx\n",
              "nosqNW0JJ+FLcL9Gi4ZI18qPxFHKhvf/XNYahgR/NrnBSj9hlgRTI+fuQsYm3o2YJm8g6Ss+CbAA\n",
              "t4UzrLUKlplFk6WBNOK1GY4ENVAjwk9vJ+LfT8etq5U4leyh7bmeqU+ao7xtlA1jqcOZICJRSyTQ\n",
              "b/BwG422iNnrhJt/UkathX673WcekxeoCLqn81+ks7PAH8gRedhxqrstS2TlEIFW85PbcEa7x6FH\n",
              "Lvpcf9DRCkwRgoyOPSiCe2uYs04k6URuRk9HDa6NiUbidnbedJblmlfuxBEL8Vy/ZRPe4xfn1L0T\n",
              "v/wuKCX3cDFv/1wktBTb+attYLZoiw77Pze7JqbKmBx4HrtdSaJhDhuFO9r3fIFnq0fi0i+wclbL\n",
              "Iz4BtRmgnAPma3APZkxoTxamCohYSsT78HelkVNExk0Iw6Zs+5vgVXxsU0BkNPSe05Dihn6fAUFM\n",
              "70AS14TLci869mSoC0bFXEzhbctpx3fJBh5ryFM88CVtMC8GscclhYnM6hqvuRf7tmIwPljCS221\n",
              "thgE6Uwufdw+yJKHocZ8/Y4Wt4FEmzSBJLVUtHqUhXNZEeLqGwFFvCUdYF7XbgCtgANHTraZ/a7Y\n",
              "isvBcrw289nOBb2C1z3SWyG6r4sha8O/QFL54NTogi6wawjRwgKjdpYs9J0gmyNimMAn/FA3Hh4s\n",
              "iI9STgaf65TNHeLVZ6eUFOXShZd7PaeRn7tz+Pavi0TUescNZfkAUdyq8+vN7P4RBBIzuzYED7sY\n",
              "MB7sDtjtZsbs8ga3Umnh0BlWtxCCkP0KoytSrvUKAsH8XI8+K/q6oWrZeANbBX6DkiPWHJCqOk4b\n",
              "dn0j7Pm3Auxs8Jm0LgMtu/grKy9x7YhFghWnj13koNnyULBAmIVL9YmXOJMz5W1H/0IIWfkydtJa\n",
              "jh6gJUXOPcdh12VL1Y9im6s9mLtphxTj1tWIeTBbS4CuC93pzzsvBSGD3j4EWn5/6wyjy54JvF3j\n",
              "KZtQPJst1DNNV7HX/N6Xgr47gpNfnZUhvfSO5Ps2IgWj/9/4GeEUPUtKcagdzXc/bDbTVFS3LheI\n",
              "QyRHwn46/qXyQcb4iKBzq0cpEiXQ7V4kOGygmpOpX9vxoQZ91inC+eH8MbX0bXQ/QzFUUr0dbjAT\n",
              "TTA7BUrPdNobCMWeb5ofnYXU66wolZcD+EhC97w5NaVStb8oJZZ8GROByoluyimWecdLbEpNzsH1\n",
              "6utIN+pyZ6TGIIGc/6pETDN8dkfGl/hMz0kzkeZX2fnWUjfo9jKgCgwSdIk174AGD+jFGWB+5cEC\n",
              "j1RZ3LIC75gt1ATpwEA4fx0MQuGhg3Br2Ov69qqGeSbCDml7QtpW0t2tTBq+uwB/pbe+IiVKMbe1\n",
              "/ammCIDMP4zKBosnl5JeCTwEdvlxrDfcyrNTATD1CsAk59EiJ3Cs3kiXPLI4SFyZ24wWWya9pk/b\n",
              "brbiYSHKWhSgAl1YaT233WCkr7c9ntgJu1kw4GUojokFqdl3ArBKiOObve349jX1HmYhh82BXD1n\n",
              "PAhRQMpMjVGlx5nyzHfIoT+ztX6m8ytBtUeYcrNmgRw6o+fTabZsp5+HJHxFm77ymBsZKmjuqCUB\n",
              "X5Qp05OUDmHEsA9uCq8fHKgMCh7ggmeipeV6Ix1y7Zd2pAaXMRZVHAX06DAwlmVvdzzTvyE7JAmV\n",
              "rA8riuPVq606fjbUTkJ4Eq+9gsZPQ6t1lrBU2N+/V/dxiJg3nnaGNmRMhUu/d2tnZJnpuDGoqFvR\n",
              "PXmMckK5PMahLbI6idHvOfxGZ0ss3It9CFOiuRvlODaUcsEBjR5n4oXA6eHWo51mgJQL/UGG7HZL\n",
              "8bbeFkLl+NO19cFmMN2qk31feIsNy1+yoxGHZG+LdRaoUfZt4oIFi/TJL5xKzapk2jBwaMpGs5fu\n",
              "wf4jBr6Q2ClW9z3b3pepjglOQBnMqX7OCipCzkBfsJcUaaqIyPI9CZj1LWQGofCl/ikFuqyTazOw\n",
              "lO48JcXwElTPLKURl0Le0kGYZ9p3/ISFtP0zd51v6zncG4j8JwUEGJIWzX6zjleCCqGyU5MTvSGP\n",
              "lTjzUVufs3BC7fZ2/uaRSxwg35yTJ4HGBV1KP8uAuWAjuXtx3c6z6K2jygPr2cyl915O0pq52wqH\n",
              "1dJxK0V+U3+Wz+e09ysFPs4cMVLRyOGK6Z08Yjx8dzEtcbpBUFD2RKMK5dCEgbdnNUZDNONKr1IM\n",
              "Z9O0rjPkjVd1v5kNPw0/IQuJjP5VBdejIPyMXj70EkhOvqM/sVeSsm3nvaW1G2d+2Ia4+kfFGAjI\n",
              "Cza0eI3fJErQPnfbUETDvhW/UsL1q6HHFYI02D7DYelT5W/T6jxTcSNKE1zWFAK7wv5SxwtS+vla\n",
              "MtHtWvX7cY5t4ua2EG3JOijcYDxvPYqdbfBLW0IqvpYjN13r7gK9tQi+ySZIfDvQT2g2paJy048W\n",
              "V1qWaiUCq7HSQP7CpBy8wJFIwpzNewTyiUb4EGlJziaMQ+SlbG9Zil1sMUnkmxlG7ZQqAEu7+dHQ\n",
              "cXXS1MLTfJgEwyIIQQe6lD5M/NCXKeh27N+kq9CPCD9/byjaNtE9Lq2XDPnT2FxWzY/S8w58/jiQ\n",
              "QcVdXRE37QhyboRIXBYpWAQgsBU4A28rHKDH6kwsdmkidEM3noh1hUBF/mKsbarnneXbPMxdo4lv\n",
              "lZxKVjhmYdNnpOBwWXp4C31RQ9ELN14X8OlkpfZQoAGR3dVYyPDdfODTharELDsEMZ8nubqxrV+y\n",
              "HOIq0zqq7Imdy6mf/PvQTar4e+FZ3UAaIiLUtozrSgYx25oDbFC82T6rJ1P+kIJoGz+KdH9im7G+\n",
              "yfAGaM4sS+F3CaWbsKir0//DFnLzmCR7VboW11mBn4Xyo8etmbMSYTgT6Scv2uFYnXpYtRR6cyum\n",
              "q10E6bPQfl56wQPhqu7XcC0WIM4e9CO837ebQ3FMTfbqjdp+ySyC1wvpWBo+XQ1K6z0CKBjpPam7\n",
              "1SVxfcCDzvtyr7vw/gBl7FALoaznD/mmztqZ5Q72O90587IyCtXiBwCzXHf6/nA6jWgAcWC7nW4L\n",
              "u2EnRZcPj+fax43OsZfYJ6DpA9GKy7xjN7r1WVSN3ahE/umMDWSfgW/S66/MsG4q4qmCsTn5IbcU\n",
              "JVRcaPOpwBP3pARaKxmfmb56qVNharB3pu1X8oDK/dHFZcO9EetmYxz5781qhnYnwi/b7YNIW3ET\n",
              "gINHjuwTfJTM0NYXYrjkEn3yB2vnLmN9TiWEm8WeDvuS3alcUs1fvMkXU01LXJAxvkfwTi1gyJ/X\n",
              "k31jdzu30VeH5Zl+lUprhvSgmJ89Hlct9wjWsOsZGApLS3uB/vgTsOPw3QWseTqvWqTIejl+Ie4/\n",
              "A77pcsNHqu0xrP+nkf1URKnpdr1v8Zm1Ucw/Wu/7VQwXuBH6U87Tr5haxVaxsSmZhCj1hQSPeI2L\n",
              "Kfn4GH/moyAT9nuMSEPhyzKnBB7RelHSpgEthgUp0/SCQBQhNzJsf37eu1X+LIjeSuLxC/zI+wUp\n",
              "HmA1f5H9KDJWE9bcswxFq2t62X6ObWayo+/HvN/NQsV3iCZK4qjpR0dZjErnJ6Q2EGr8O7ygdj6r\n",
              "MqW2gmg++ZYYqCFfxTYJxwmIxHTXpYPm6AP7qzTX6keD7/08UBEDhw2fFQD6CNcSGodIrhXgZD2Q\n",
              "hAa0ukaWIdL3Tm7liqp2Podz/qZHtZDPWTBTE9jJ/Dhg0xwfQYZlMaxFGvY1TELhm4LcjqrGBMt4\n",
              "lP9kxzTxniuky6fGvcqf1GIc3NtrynFZ3EFS/+zbqq5pme7SlkMfUQ7wmDmgvcBTiS4F5GAbTxRW\n",
              "zcUD7GTQ0Y+6gbkaNIcL+DX37uxFsdmy/U0usowCb5NkeTzsoRCZYX/tchXsNFDoUffdJhUcufqr\n",
              "cDvnuBbJ7e7PV0WZZVzd77EhBRqdmLISWMyZfUpN6ZJ2Nfm0waXRkYovOiZ9IDx2rckXnvmozaUf\n",
              "D5W8wQicbi3iMBcbXoFsG4D6XoH9+5Qu8mRfqCQEbqHQ+1tX6mcmB+3s24yzs7wK4rJUH4nMWAKN\n",
              "b9q2/zjBVH/q9/qy5yO8Xe/lSgYUK6ggEnbtTPjLbwdG5YyapkpgX2OidvLv6a+K6wM13bDIyYVe\n",
              "pnGFCC/c8WM5VLUtl4PqYgTdT3YkCncKEBfHCGdsitlQs0CBVPTjSR7wKfzXXcgIkHze7ZaC5YY1\n",
              "fUwbEQBq/qjUvMKg+Ew3L7GS1ZINflsx1YC4jKcwg41a1A2w6L3RuJsT7DPbrsx5hXD9n63FQf3O\n",
              "9Sm621Mw7c6ASbMoBkcMqzDQb08GbwVmyI8BiXc489flIFLFuTc0148Npua8WtiWQVMLL59Db4+6\n",
              "BE6QsbvmgO3nw4T66zJjT8KSRrX2no/lBRgEREHk0ZPUw//GVCNzvVmP1sWxQqu2Vtb2pGd65bee\n",
              "GGMhn1+35DFV4Bx50i9lOxZHiGGFXNC67AQ+Z6hALtlcvRLoyAbG5HK4iK18f+rRfkgnA+N9vEK1\n",
              "b7AVkAOuNe1GC8E/m3T9iqED1JDfpxJVJIySZC1hBXK2vpVCbs5//B9vUzTb3aS+EAEnYFHbq36D\n",
              "YvUU36hfjkWbeuKLqleCPnE44KrEOwmJ+eWfiBIseJtTAYVATL28ac+YxrHgwBqYGRmIuBuDj1zy\n",
              "oj3jxgAq92DC0w4WllSzdOLglSYs34YK09KX9IeCN1jSk66xv5ZmAdfrdEGq8Tcnh1FJOfKRyIUK\n",
              "KoUPlA46d5hWZM9gUsU9MtLKnY164tdHKvyTIJzOQjyhNtfNReMGR+tdN7KCirGYD5Rgvo9M8tQM\n",
              "77O3HvDbhgffa397CticblFSucx3pEuYr8EPHuEDr5QVRt3tP7KqNMiFCq22zw96yNWMBuuql9+z\n",
              "Sz3spvj+ic+iSqyWzpIFWdLywxVlbi/NQafHv0D4GDAMs2+3eoIGav6eEX5Ugb1/GGvjqIq4/eJz\n",
              "BOayuK7kxALzheG6tSw/Js4Tr2K7/2Se+pFdOFUv2hSg769Moi2nlrn7EhAHDT/5kJvo3ATNLeaS\n",
              "LtmzJQORLcD7R99M8PJ6LORPvu4QFHZ6mYXudpbtiXQhu3qOR6QrjCfPEVRN41KRTSoOxCEJDl1m\n",
              "M3Vo7//jmIXVKNGgMYVQLdmeU+5JfPssW7VQhvImV2j4v0gTf/Nvox0EVaY7VURdjz9syTQcmfeO\n",
              "WUMZnfQBUh3F3zFNlFuEYT79Llg6cuLfA12g+JsT+Rbv+3LOZsN3QejWA3dO9pa8OnnxYNmdBuwP\n",
              "ylrfYEocTmmOrl2t2snme/+KxkTpAq2m1CZF5MycX3kHUFn1DUUXup4AN/38gL0z87Z6h8pUS7Yj\n",
              "/iDy4VpFb/TEd2zBzzEz1IedAC7qNoMI7GA2PpC0hbrFV5qERe7YWtEtkgmgqXfkoUgLa/JONAyr\n",
              "NyC5JAvDNR10hFOa9L/LqxzVjkbzqNLfR0WyC5fCeSbRsnFdhKeNKlUHzGqgfmLaNikVlWc5PwZZ\n",
              "9Eryb4Gu1AQo3WdwIDUXCpl2gCvLZ6Uqwpjk4OvHsRxNQCB36DSbYUKLKlF4n7r+kric5mK2xzE7\n",
              "ClvrZD5hDvMM+yMGXVYU9sDbfPSFfANQ5HzLO4dB97RXcBLdf173VYmvsJUzTNWJbxUfk895AZ5f\n",
              "zd7ucXDS3vecbjmzQOfGkN01mdH3pLa29npfjjPim9EyvcTIH/20f3fm/VWkLkRpMtphJiLTRAMx\n",
              "rhkQCJshqgPWchNOgYiifPBPyB/+Q94mBPt+Ey356rtf3tRjrzk41yJf6gCGQxXA2I8BKsof5veT\n",
              "uT1PKxSRJfdeUQ6zL1iyAYSVz/0rcXJqB02krgNOTmQpoReuqR1CjHTycVgU8dIjeHCvrLg7UCnP\n",
              "jnd6k+CFEWTfoQMv05NoFfRmucOni2n/78q8lQ81ppXO2/8IoPJ9Vp0PcV4POh2k+G1DCgY7MrOy\n",
              "pW81xcPs1dkbR8Cv2lurAQEzT5ykUBfv645RJNsSisvod6uLmXcGV+XFW78+IO+CFfy7ygtg9tvU\n",
              "kRdUEYGcaqxGIGSivgTjKCn2CQeT303N1ak+SkqipMJXo/7ZlIjUrMKWOaV5na5ppeNqtZtMmXBt\n",
              "GQRG1mWgC9ynEz2dgs8RNAeTxeOI4dWVtKcTULl18yQPJSW9WbW1Tjl1oqUAfUeto0oEY3UqNgeb\n",
              "pHCgpSuOi+aHtZ0M7SePjVh+wH0DckwMbNECqyYzDMoP6SqVKilaRHS/8Cna5Hdvg1iPVtJ/FxtV\n",
              "ZEjGs740R2VqGC2GHCTwUlqMfEBNDX/BKsCuwo/YrDbA7obKNbqfEo1gUauw6LR700Ji9vBQ5xfC\n",
              "1bQSBWtM4b0nYzuCz5D640KjUH9aHSK7g44pNw5BW9x2EZtnTaAMb4YmfTX35gVm9EeliJMKcpii\n",
              "oluHImAbiGE/9uKBIw5voZ1LuvRhcOrNzNShWxsbAIf3Qf54dT5VkyPtfuRpAr9hdwsps2lgeWjo\n",
              "baBmwG9RnvuIdyUhwpU+IFdJwEi+E/ca3ttGJSni+BB7BbzolaTu3vSvZuCXtiwCKHo9P0/spHIN\n",
              "A5iB0s6tA+0AJkLiC6Q1keI7bNDB4d7KHnhIJlU/DGZ0WeXeqsL6uc5aTmg4aMvVs2/CQ/UmkImQ\n",
              "F86HnfxRSyWrH42Vlxcu8aC2ed1v1HG77SO+wDxuQzKuBYZgVXRLshzlL+mOtZg2fdwYMi7ZIR/Z\n",
              "mlitvMswaoCtrYG/A/sx9KAe8azygl9CT3xNFSCS72bco2+uD/XCxzi6cgBla/Zv18Gw48J4JAWU\n",
              "H4og3jvJYUbRRrtmxUlBKY/COfJpJtJ7O+nJKXnvzdzECVBtWXaGT0kZ5cVWbWkTNR9HO8uC3kvf\n",
              "S4veJTeJ6OGC7woUanzENIETWasn2RBQAOFmdLLej8jOJaaO91vBhtebHU5oZPrghJgkB0u5Nuid\n",
              "n4d+uXuH8jrkgVUhZAAxerNXNB/F/Iar9JwFxm9yfTGav2plqy/n0EeB6C7shm3NzGgSjcngpW2q\n",
              "WFxP7UH+mMV9k7GQE8DwQ/hXtvOB11vtfi3cQ87irwkjkUpQBkuUbVDarsIvVZ1C306i3oYm7qVF\n",
              "NX+HQUx3Hi0ShI5CFB8NxfKv1i7T5Fu3Bord7iNQCt9AqtHiBZy0Xjg8mc3No89CbeeqI4B5fovu\n",
              "qzUCmYrdbJej3IU2wvynov7OWxoa5D9IsfIisX/7HQpSubA/WqfuUhAXqcUdz7gpu/n/4DZKOBoy\n",
              "RqY89U+e8TD0ZwxdKbVAx3ZAKrIRO3Sr8jEYQPhXCEAw7/CF3l0d+vyaawjqbe0Uef0s6XQ8Xm4A\n",
              "LN+YdGf6+/uxV9mmQo5GCS9Ix6+qnkCoj7nFkVUmMsQ97GUMGhOpfxLtRN3d++BNMuAf1JW3ZpzV\n",
              "Gyoxz9+/kKpt7TSL3/848DRHQMY1b+vq+fr7f0XHU9M4AucEkhf7nZOuz210LgBBDcVL4dNnRyvU\n",
              "fY6THVEAAALmQZoibEK//jhAHYr/w2Alx1SBwENR35oVW8Eq1gBC/7HoL+nXUAhvtbneqdF5AENy\n",
              "G76ooYJ/VXmptIIBdod4whm3V+i0LqtPcvf42dDmMX/278hRN7xLuuMOsTapD4XhUyeD0ZzHBHGH\n",
              "1Wb7Ki5JEtiELT7ssEo1NMcNmikq8Q4c/8KBP8F9v26yHiB93O+RZNUeziFXm2uLBjlpd6HiT9G5\n",
              "3l4Wpftv6RUY5fx5vJ1NBnkY+v72/yw7YD+rmcnU+fsOBILjgXIqRClxv5Cf6s/2/fM0VuNxeE/t\n",
              "6KwfXBfokJe2QnAPTc4UpMWI5ZBHoiXjrqdcaam+HvFzqJ1wqKm/CHRAcIT/zLBJ76mHZXSrdG3s\n",
              "MYWx7Ik9+46d54hnA4rbPN3w9eZ2rdT0BuIhcKsRIZMHrYEPtFdPlVrfKcrGqF9B3WVudswl7ynV\n",
              "djNaC/0Bck8BKWYPAFd49mvJdr0cWyNH8lfCDlHPX6uNs6NW2QJsvIMX7cgZ+HGg5ASroDv9mXJD\n",
              "dWqfxSW/u+e+DMHu3whBSmXtTfn418C1PnrM51L3if5tUanTabMTx3ixM4pQ71RQnqWlK4dJcWv9\n",
              "lJIhd6aiizlo4l1QB91xEj/f91qej85eQaJfGV7uhBIQAueJq8YthpivpQkaJHCuER6xE/p15a0f\n",
              "/0UFlCpB6as60zDQoxt8eBGLuCSICMc1UBZ5jyoOB4C8eo+nsmNTmkU+6n6ynaX/rp0x9y9Gu0dv\n",
              "/u4kyic0sKWcwcs/3FCwFD6U07Coc0EEXP81sZFOIokstnerrC2glORRnPAbXdFBk70HciVuPnOY\n",
              "59Too/to0Jf6tx/c9F84Ncj+HxSDkPyjjtSdOIhr27MAD+qsirHH73EL5zZQlGuWGMq0YA3/ghGk\n",
              "/tNDQ/WOj8HZhIwbgS3y6RN3Lm6VA73PK3iIdgtOVPUsjF2peAFLh/63aDo8UaZn43ANKeFd7qPt\n",
              "H0on2EuqnQAvoAAAAEcBnkF5H/8Hu5qU+tA1evgwcJBFkAACwEY0KNZCmXWggka61DYWROb5j2gX\n",
              "nJ8fEjE9YKhzjIAS1NaNCogM8GJlKip0mfvsmQAAAMRBmkM8IZMphC///oywhOJyc58Evzz+MyTd\n",
              "/8Ik5EaXXeIAS5agv1WcMivYRV/2Ide4NbIApts+H2QCM0UW+lhzfCPRs1bfLzjfSDsTrag8/66P\n",
              "a++L9UFV+FiHXLOHEmAvPvqKZEfcx7h1kqE+AVfzTE0LJEKM+SSJ9/s0yjC6KZYlUpwP25CpTmwo\n",
              "E4idlUopd8g7LNPBG/6IwsWAq8JkAbdjPJXJKZWz1wGS7TAcwTgmZpZOsETZTmo614qBFZb+9o79\n",
              "AAABA0GaZknhDyZTAhX//jhACWn7MCfThMIBq+b57lak+jlSaSP7SF5FpJY0gMnzhaQ1eAl/J7ln\n",
              "1a2h3cNltkYVC3RdzAoFXAGBlbYH7sRGrxJJbN40B4ujW0BobLfG3bozTEIaxtU10XXzkS8qrtbN\n",
              "xFTtyF/S6SK2a6rySNmERtPMzf3GlrtmYovH2jYE6AN7g+vLOWrqo1iR80NXS0nfUiQ3wpFRE1gI\n",
              "t+SirCdfn4mNXyhMJHdFFM2fpPGLSgM2yygbaNT5hCttL58UpwkZDGCDp7Ca6yMEw2uQ//RAbVwu\n",
              "YnOoXreMMZS5aexCMPx7biVJ01O7YO8NiW+47x6EsNZjFIsAAAA+QZ6ERRE8I/8DtB6DYv5+EOal\n",
              "DanvB9KomJa3zVjSh4bs8hZPMCXJDRPmXr1HdwgA70fMDw+0wnjzYx3pDdkAAAAhAZ6lakf/AcWA\n",
              "L/hLnPFlaMAiR0AJNjjfv54k3eAco3D9AAAAX0Gap0moQWiZTAhf//6MsAABinetABGxM17FTOND\n",
              "Qbz1G6TZh61t6PlCvSqArUOveDpRylFejmeEH45zU74vro4a4Zi2abXfS8UMZhoVHxGzx4kJvVCx\n",
              "B4ieOwxB8yr3AAAAskGayknhClJlMCF//oywAAMEqxvgBrzSUoZRlNcVm03iZyO7ZDovY4g2SZbX\n",
              "fj9CuuZ7CoduXNbdfLL3hCmim6I6g+Y0049TLsk9LHJLurFRIo27Ofuq7z0X5Iy0LcDKLOFsfzM5\n",
              "zcUnUQhHZ0MPd0CvFOGO9LFN7KBd1R1wlpfqWTqzVkPPQRSv1mWlYh9q6aYXxGDjH6HrL3Srxebr\n",
              "g0Pch0Qy7BfJjNxN2s4/mZN2M0EAAAA3QZ7oRTRMI/8DtB6DYv5+EOalDav8sYSpj3WVODJD58Gm\n",
              "cOX1rr723owAgUCGowl/ORhmNKfdhQAAABYBnwlqR/8BxYAv+Euc8a5elsBwJTXTAAAAkkGbDUmo\n",
              "QWiZTAhX//44QACkf4tzL+MAOPaaaAhVeFCPgljAN4X/l08w3TWbJPpEKTSBtQe09aSAaul+WA3J\n",
              "dQpmUGvHOkvtyl0E1HZl3r/Z/zFJ8bRxHe0T80u3XTDFP29vLCAZ27InSmTpFd88YNcOh2hJmErk\n",
              "qJa3/Vr3Y1Za8ArXIp6ZDAGsX+5A5CcJ+aSAAAAAM0GfK0URLCP/A7Ymzwcjzhjt4IHL7DHGJjYr\n",
              "wiD1ZiAL85ui1kowAg+pDdoHcZxbsuC/QAAAABgBn0xqR/8BxYAv+Euc8jy63gPUmZS4F4EAAABp\n",
              "QZtOSahBbJlMCFf//jhAABY8BLvVaQIBMyGK85KpBtTpjJccl/Ca0QjvcsmBquGZ1t9+uYaUYvXl\n",
              "6H8i6lMuCKnXTNQZXMCF6Tsn7hefabwUyp6I+yTT3sohV0/zUoZckqmwfWuRUkP7AAAAP0Gbb0nh\n",
              "ClJlMCF//oywAAW9In02AOKJ37q8lONPfzcP1v4+QeNQ3dYbROZRQNx6/9gZavAEJYtHXiYAOtm+\n",
              "YQAAAGRBm5JJ4Q6JlMCF//6MsAALcWBcAJeaQy7r/+vLmRYGHuZfkMZQMHVyy1AUsQIER4ESvcGf\n",
              "jgM7xn12OOoYbBEFnrm7vh8NGjJzdJQ3RBZ9k/hLQHocIgD5njr2hQbMd+QnffNmAAAALUGfsEUR\n",
              "PCP/A7Qeg2L+fhDmpQ2r/LGEqY91lTgyQ+fBpnIJkA80gBsNyWVywAAAABsBn9FqR/8BxYAv+Euc\n",
              "81G92AB96kfQpRPGweEAAABoQZvVSahBaJlMCFf//jhAAFj3b4JDNeAhVE/6ptKHxOT1+VgxuPys\n",
              "boNzCSL6cQBrE1ppYnK5vecO7HZbzbLFO5mNkIrP2LfUArZU3dH0wubBCVBMsNc1ASo7afySsgtA\n",
              "OzPrP2qOBXEAAAA1QZ/zRREsI/8DtibPByPOGO3ggcvsMcYmNivCIPVmIC8YccA8ZQAPbifN1ZXL\n",
              "eBRwNwIyJeAAAAAgAZ4Uakf/AcWAL/hLnPV3YF14YAAmIJNA5mi7cFzq6WEAAABSQZoWSahBbJlM\n",
              "CF///oywACpYfYXIQhP7LapriEDe1jFfRgQR5QeP64W1FAZTdHa1wkcIH53Gy8o9YKEODcxY28Sb\n",
              "ZIh8p5vth05wCb8tRdIi4AAAAD9BmjdJ4QpSZTAhf/6MsAAW8u4JN1uwCaUTkioQUmDDGnMaW+OL\n",
              "JPZhPmXUmZS+5n/ziWVO1gW5LBHYm3EMXcEAAACbQZpbSeEOiZTAhf/+jLAAFt1ptIA6Cx2tM0Ol\n",
              "6mnggyuyANm1D4VbvkwD454RVCKnbJR3R0jVHMm81rVCKk5S36RZ01m6Wpf42TLyLD9IaAhc5y32\n",
              "Q7M6ScF7H0X3hVg0KthT4qPjiaarTVAC3lP6MESkr+er4qSrwH9ggvqQUftdZcGcb+SIF/KvdpPn\n",
              "xY8ozxAs6U/3hq+1MGEAAAA2QZ55RRE8I/8DtB6DYv5+EOalDav8sYSpj3WVODJD58GmgDCRF3po\n",
              "AbxOqePMSH+cpfF/xo6oAAAAGgGemHRH/wHEipeTuptpRD3okQZIDX9joTLrAAAAIQGemmpH/wHF\n",
              "gC/4S5z9axyw16QALUpDh6Dbn3DYdtpGoAAAAGdBmp5JqEFomUwIX//+jLAAK7vj4WI95AAL+VFZ\n",
              "yV5RaPm7BaB1iYFjv8WqHeZTjqiGBHVxIC+gXcBHM8IMikRxz+assHOF9S10TBEK284WY8QKhpHl\n",
              "8YtMGd8/s0hB6RAXn3j0DUiZAAAAMkGevEURLCP/A7Ymzwcjzhjt4IHL7DHGJjYrwiD1ZiCsD03A\n",
              "MUgBHUOldFaKhXLyuDNLAAAAJQGe3WpH/wHFgC/4S5z9a6+d4AG2uxDkzK3NvdChu+PmQJjIHuAA\n",
              "AAA+QZrCSahBbJlMCF///oywACuHjIMAmlCIpmq1ULV8q/zBg3K3AYvCy9UYPmNq1T+3/mz9oGaQ\n",
              "VYZb1a0MKS8AAAAzQZ7gRRUsI/8DtibPByPOGO3ggcvsMcYmNivCIPVmIKwQypPgBDl0mPyNvBDG\n",
              "o/O4Tp3vAAAAFwGfH3RH/wHEipeTuptqrDHgUNoQ4frEAAAAHgGfAWpH/wHFgC/4S5z9a5yEjwAF\n",
              "byyMPzMBHgyM4QAAACxBmwNJqEFsmUwIX//+jLAAK2yoNKfAOGRAIRCEeHcQd2wBdKHWpOLKNExH\n",
              "wAAAADRBmyZJ4QpSZTAhn/6eEAArDrL6r52cZgAWEUBeDSbFL3JokB9yuTxPivgOVkfpk5NqILuB\n",
              "AAAAK0GfREU0TCP/A7Qeg2L+fhDmpQ2r/LGEqY91lTgyQ+fBpoASG18AmR37CwcAAAASAZ9lakf/\n",
              "AcWAL/hLnP1rDgUFAAAAM0GbakmoQWiZTAhn//6eEAArGaDwBWqVJkNqdlRH67iXOeiNYVbevQBF\n",
              "+Xkhtj6D4YsF3QAAACdBn4hFESwj/wO2Js8HI84Y7eCBy+wxxiY2K8Ig9WYgrA1QID7tQu4AAAAS\n",
              "AZ+ndEf/AcSKl5O6m2qqFFQQAAAAEgGfqWpH/wHFgC/4S5z9aw4FBQAAAGhBm65JqEFsmUwIZ//+\n",
              "nhAAKxmg8AcopbM9Gsdg4+bQohWmxwd451pypjGSc9EO83d3VClWQA6ZX2P8PWyyomW8cbwrCJBL\n",
              "MenHJLEwOKO4ijW5O2XoaaCdUYRfrZJmNrUWqwPOez8N6AAAADJBn8xFFSwj/wO2Js8HI84Y7eCB\n",
              "y+wxxiY2K8Ig9WYgrA5TLpoAWCDy7mqVwAcFzDnDVgAAAB8Bn+t0R/8BxIqXk7qbaqwztAABNXQb\n",
              "DlSUxTmmohnBAAAAHwGf7WpH/wHFgC/4S5z9a5OEWfbxgAHDTPjcnhZbHp0AAABeQZvySahBbJlM\n",
              "CGf//p4QAFPxuOAImPo+7M+yAhvEcb5m2ELcGy+92sO4+MXPN9iWyGoMN94jMumRKP9pQ7+Al3iR\n",
              "PtwSeBR0q9bzceGRz/m3ES8PYLJLDPRLFxQIeQAAAChBnhBFFSwj/wO2Js8HI84Y7eCBy+wxxiY2\n",
              "K8Ig9WsMNKY5AMeKb7XsAAAAHgGeL3RH/wHEipeTuptqq+mW4jFkgAWor5stOrANmAAAABIBnjFq\n",
              "R/8BxYAv+Euc/WsOBQUAAABhQZo2SahBbJlMCF///oywAFSx22AKtjQMcHATlltrc/E3YcTNRWMk\n",
              "koFjuc3dVWBHpPpuMkYttx+SKXUFr63sgua/ybb5ZZIypwQELySLsjQKqFiVBaGR8BgDUXAszHGh\n",
              "/gAAAC1BnlRFFSwj/wO2Js8HI84Y7eCBy+wxxiY2K8Ig9WpDzgBGEZFSiZj+htBSxbwAAAAZAZ5z\n",
              "dEf/AcSKl5O86O7DBY45T+gAQ4zy6QAAABcBnnVqR/8BxYAv+E06QkMSxZYyiOpKzgAAAFdBmnpJ\n",
              "qEFsmUwIX//+jLAAjCOCTLe8AHQNJ8C63qiVtq9KFxfSFuFu88ZGemhJ//X2tE3pTvYGkimqt9zK\n",
              "xFpPjD7V1MMkg+s7XJ2gYF/4rDgUoGL8n+EAAAA6QZ6YRRUsI/8DtibPByPOGO3ggcvsMcYmNivC\n",
              "IPVrQHLAC2dySk6f8wyW86K+nEGmGT92PyGCEne2OQAAABUBnrd0R/8BxIqXk7XTqxwUz8ZWpqAA\n",
              "AAAXAZ65akf/AcWAL/hNPuOtga3LMwkmchMAAABHQZq+SahBbJlMCF///oywAC3+5psiIa250ZAH\n",
              "t7wC1kQNGwD+1fawW90gsPXhDwGn9UKR1B57OUb3PvnxhuO9nNCOk3dIyoAAAAAsQZ7cRRUsI/8D\n",
              "tibPByPOGO3ggcvsMcYmNivCIPVmL/CYqk5I3WANII5PIsEAAAASAZ77dEf/AcSKl5O6m2qqFFQR\n",
              "AAAAHwGe/WpH/wHFgC/4S5z9a5e3SABOCUotZ0wpELcsCggAAABfQZrhSahBbJlMCF///oywAFSy\n",
              "whAEe9ShG9xGodlOdp7nHRfyrB7RhYrU08Oym9etZW9e8tAZZ3MjgvedxBHfNVLSXHkKgavsAeuP\n",
              "+BHQc9RniVwL16lQGXKSR5nYPSAAAAAoQZ8fRRUsI/8DtibPByPOGO3ggcvsMcYmNivCIPVrDDSm\n",
              "M6sDLCXjEwAAABUBnyBqR/8BxYAv+E0++JfnVtfgf4AAAABEQZsiSahBbJlMCGf//p4QAFPyvjgC\n",
              "tTAVrGk6uyfAdoTv57ybHV1an/zS6wVoVQvvqLYgY0deRdAJ+5PDaoxVYwKgQ8EAAABPQZtGSeEK\n",
              "UmUwIZ/+nhAAVrffwrKIbgDb1ps7dpnnjftmKfL/4rUFI7jtWvAN8ltkpgJJnhCBM1RRtOJ1E7Tt\n",
              "3NvHhUHVIOvhJfLBY1aF5AAAADhBn2RFNEwj/wO0HoNi/n4Q5qUNq/yxhKmPdZU4MkPnxJVZ/Bg1\n",
              "ABYhd7n5Ow2YYfRUOyA1eBDLgQAAABcBn4N0R/8BxIqXk71K8ESs8piOR3qUkQAAABQBn4VqR/8B\n",
              "xYAv+E16IP1u0c6fxQAAADdBm4pJqEFomUwIX//+jLAAV0s9a1MGAOUZfU8pFj7t+magl98oiuda\n",
              "MlHgj3V7YHoRFpMZDBixAAAALUGfqEURLCP/A7Ymzwcjzhjt4IHL7DHGJjYrwiD1bPfO+f5uR0Qx\n",
              "AEjupdY8wAAAABYBn8d0R/8BxIqXk7056Ii/VAAtggEfAAAAFAGfyWpH/wHFgC/4TX72GBI1oEfB\n",
              "AAAAQkGbzkmoQWyZTAhf//6MsABW883gBQbZ032fi8bSbLjsrs69wT0frn0lWPGkpo9BRUmR68HG\n",
              "QozhCPuVCEPCGaDpgAAAADFBn+xFFSwj/wO2Js8HI84Y7eCBy+wxxiY2K8eEYFuMp1FgA42zqAQi\n",
              "YEEmADlMdaNiAAAAEgGeC3RH/wHEipeTtemUiPCQlwAAABYBng1qR/8BxYAv+FgoTv8xt9GE13Ez\n",
              "AAAAPkGaEEmoQWyZTBRMM//+nhAAVHA11kDADa3gjWUpfkDrwMcYbZBHGKWK7HJQfEDWSsqJKXsU\n",
              "ekCO0uREQMCBAAAAKwGeL2pH/wXHu3bqkHXVLum1a5yQskQwqBsi1Rjw/89ABODWyYJYADsgu4AA\n",
              "AABHQZo0SeEKUmUwIX/+jLAAVLWkgAFc4PrKMqycW6XkqWgg7kSyXdYAXp+NJDb8VSqubVhKUPOR\n",
              "tfvl1DZ/Tk3+Ec7i/A0YV8AAAAA6QZ5SRTRMI/8DtB6DYv5+EOalDav8sYSpj3WVODJD58OpmQoA\n",
              "LhDT7WFWX/cyeXp6WK2g7AHFooSPLQAAAB8BnnF0R/8BxIqXk7zX1/ZAAllHLOunpeH9mLUeHRSg\n",
              "AAAAGAGec2pH/wHFgC/4TTnHe+gujuD+/FR4gAAAAEJBmnhJqEFomUwIX//+jLAAUmDGhSup8ACF\n",
              "+7GABtFcydWOEiIe+8QePcYstl9ylZj5LJQJ4V8DhWNuZs62rWcUi4EAAAA0QZ6WRREsI/8DtibP\n",
              "ByPOGO3ggcvsMcYmNivCIPVqRwqwALoHBL6zd5DeIgk1gAmhmwSt+AAAABsBnrV0R/8BxIqXk7yn\n",
              "8NABY0MKfxhrl3FoXLkAAAASAZ63akf/AcWAL/hM+hI4KKavAAAAKkGavEmoQWyZTAhf//6MsABS\n",
              "yeOkcAJHvTXnkUuLp65CbxAo15hTkMzCLgAAAClBntpFFSwj/wO2Js8HI84Y7eCBy+wxxiY2K8Ig\n",
              "9WYv8J/fN8Sv7cj1JQAAABIBnvl0R/8BxIqXk7qbaqoUVBAAAAASAZ77akf/AcWAL/hLnP1rDgUF\n",
              "AAAAPkGa4EmoQWyZTAhX//44QAE9xHOgAuCxQKuxLtvvhySDdsGTdnhtpkuTJ5VTVSGekn006x22\n",
              "wQuhhJte0AWVAAAAJ0GfHkUVLCP/A7Ymzwcjzhjt4IHL7DHGJjYrwiD1ahIMpYA5UU0F3AAAABIB\n",
              "nz10R/8BxIqXk7qbaqoUVBAAAAAXAZ8/akf/AcWAL/hM88RCfbfVr5eAq4EAAAAmQZsjSahBbJlM\n",
              "CP/8hAAS2nQx4AJ1UR2zsKnyzHL0Fp9G95eA7oAAAAAwQZ9BRRUsI/8DtibPByPOGO3ggcvsMcYm\n",
              "NivCIPVqv4xgAbSJ6d6DI2WMAQEPaOmBAAAAFgGfYmpH/wHFgC/4TPn2yZHJ63vqe2YAAAeGbW9v\n",
              "dgAAAGxtdmhkAAAAAAAAAAAAAAAAAAAD6AAAB9AAAQAAAQAAAAAAAAAAAAAAAAEAAAAAAAAAAAAA\n",
              "AAAAAAABAAAAAAAAAAAAAAAAAABAAAAAAAAAAAAAAAAAAAAAAAAAAAAAAAAAAAAAAAAAAgAABrB0\n",
              "cmFrAAAAXHRraGQAAAADAAAAAAAAAAAAAAABAAAAAAAAB9AAAAAAAAAAAAAAAAAAAAAAAAEAAAAA\n",
              "AAAAAAAAAAAAAAABAAAAAAAAAAAAAAAAAABAAAAAAbAAAAEgAAAAAAAkZWR0cwAAABxlbHN0AAAA\n",
              "AAAAAAEAAAfQAAACAAABAAAAAAYobWRpYQAAACBtZGhkAAAAAAAAAAAAAAAAAAAyAAAAZABVxAAA\n",
              "AAAALWhkbHIAAAAAAAAAAHZpZGUAAAAAAAAAAAAAAABWaWRlb0hhbmRsZXIAAAAF021pbmYAAAAU\n",
              "dm1oZAAAAAEAAAAAAAAAAAAAACRkaW5mAAAAHGRyZWYAAAAAAAAAAQAAAAx1cmwgAAAAAQAABZNz\n",
              "dGJsAAAAs3N0c2QAAAAAAAAAAQAAAKNhdmMxAAAAAAAAAAEAAAAAAAAAAAAAAAAAAAAAAbABIABI\n",
              "AAAASAAAAAAAAAABAAAAAAAAAAAAAAAAAAAAAAAAAAAAAAAAAAAAAAAAAAAAGP//AAAAMWF2Y0MB\n",
              "ZAAe/+EAGGdkAB6s2UGwloQAAAMABAAAAwGQPFi2WAEABmjr48siwAAAABx1dWlka2hA8l8kT8W6\n",
              "OaUbzwMj8wAAAAAAAAAYc3R0cwAAAAAAAAABAAAAZAAAAQAAAAAUc3RzcwAAAAAAAAABAAAAAQAA\n",
              "AthjdHRzAAAAAAAAAFkAAAABAAACAAAAAAEAAAMAAAAAAQAAAQAAAAABAAACAAAAAAEAAAQAAAAA\n",
              "AgAAAQAAAAABAAACAAAAAAEAAAQAAAAAAgAAAQAAAAABAAAEAAAAAAIAAAEAAAAAAgAAAgAAAAAB\n",
              "AAAEAAAAAAIAAAEAAAAAAQAABAAAAAACAAABAAAAAAIAAAIAAAAAAQAABQAAAAABAAACAAAAAAEA\n",
              "AAAAAAAAAQAAAQAAAAABAAAEAAAAAAIAAAEAAAAAAQAABQAAAAABAAACAAAAAAEAAAAAAAAAAQAA\n",
              "AQAAAAABAAACAAAAAAEAAAQAAAAAAgAAAQAAAAABAAAFAAAAAAEAAAIAAAAAAQAAAAAAAAABAAAB\n",
              "AAAAAAEAAAUAAAAAAQAAAgAAAAABAAAAAAAAAAEAAAEAAAAAAQAABQAAAAABAAACAAAAAAEAAAAA\n",
              "AAAAAQAAAQAAAAABAAAFAAAAAAEAAAIAAAAAAQAAAAAAAAABAAABAAAAAAEAAAUAAAAAAQAAAgAA\n",
              "AAABAAAAAAAAAAEAAAEAAAAAAQAABQAAAAABAAACAAAAAAEAAAAAAAAAAQAAAQAAAAABAAAEAAAA\n",
              "AAIAAAEAAAAAAQAAAgAAAAABAAAFAAAAAAEAAAIAAAAAAQAAAAAAAAABAAABAAAAAAEAAAUAAAAA\n",
              "AQAAAgAAAAABAAAAAAAAAAEAAAEAAAAAAQAABQAAAAABAAACAAAAAAEAAAAAAAAAAQAAAQAAAAAB\n",
              "AAADAAAAAAEAAAEAAAAAAQAABQAAAAABAAACAAAAAAEAAAAAAAAAAQAAAQAAAAABAAAFAAAAAAEA\n",
              "AAIAAAAAAQAAAAAAAAABAAABAAAAAAEAAAUAAAAAAQAAAgAAAAABAAAAAAAAAAEAAAEAAAAAAQAA\n",
              "BQAAAAABAAACAAAAAAEAAAAAAAAAAQAAAQAAAAABAAAEAAAAAAIAAAEAAAAAHHN0c2MAAAAAAAAA\n",
              "AQAAAAEAAABkAAAAAQAAAaRzdHN6AAAAAAAAAAAAAABkAAA0ngAAAuoAAABLAAAAyAAAAQcAAABC\n",
              "AAAAJQAAAGMAAAC2AAAAOwAAABoAAACWAAAANwAAABwAAABtAAAAQwAAAGgAAAAxAAAAHwAAAGwA\n",
              "AAA5AAAAJAAAAFYAAABDAAAAnwAAADoAAAAeAAAAJQAAAGsAAAA2AAAAKQAAAEIAAAA3AAAAGwAA\n",
              "ACIAAAAwAAAAOAAAAC8AAAAWAAAANwAAACsAAAAWAAAAFgAAAGwAAAA2AAAAIwAAACMAAABiAAAA\n",
              "LAAAACIAAAAWAAAAZQAAADEAAAAdAAAAGwAAAFsAAAA+AAAAGQAAABsAAABLAAAAMAAAABYAAAAj\n",
              "AAAAYwAAACwAAAAZAAAASAAAAFMAAAA8AAAAGwAAABgAAAA7AAAAMQAAABoAAAAYAAAARgAAADUA\n",
              "AAAWAAAAGgAAAEIAAAAvAAAASwAAAD4AAAAjAAAAHAAAAEYAAAA4AAAAHwAAABYAAAAuAAAALQAA\n",
              "ABYAAAAWAAAAQgAAACsAAAAWAAAAGwAAACoAAAA0AAAAGgAAABRzdGNvAAAAAAAAAAEAAAAsAAAA\n",
              "YnVkdGEAAABabWV0YQAAAAAAAAAhaGRscgAAAAAAAAAAbWRpcmFwcGwAAAAAAAAAAAAAAAAtaWxz\n",
              "dAAAACWpdG9vAAAAHWRhdGEAAAABAAAAAExhdmY1Ny44My4xMDA=\n",
              "\">\n",
              "  Your browser does not support the video tag.\n",
              "</video>"
            ]
          },
          "metadata": {
            "tags": []
          }
        }
      ]
    }
  ]
}